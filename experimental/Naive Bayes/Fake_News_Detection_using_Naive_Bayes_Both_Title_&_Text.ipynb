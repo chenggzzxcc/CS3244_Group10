{
 "cells": [
  {
   "cell_type": "code",
   "execution_count": 36,
   "metadata": {},
   "outputs": [],
   "source": [
    "import numpy as np # linear algebra\n",
    "import pandas as pd # data processing, CSV file I/O (e.g. pd.read_csv)\n",
    "import seaborn as sns\n",
    "import string\n",
    "import matplotlib.pyplot as plt\n",
    "from sklearn.model_selection import train_test_split\n",
    "from sklearn.metrics import classification_report,confusion_matrix,accuracy_score"
   ]
  },
  {
   "cell_type": "code",
   "execution_count": 2,
   "metadata": {},
   "outputs": [
    {
     "data": {
      "text/html": [
       "<div>\n",
       "<style scoped>\n",
       "    .dataframe tbody tr th:only-of-type {\n",
       "        vertical-align: middle;\n",
       "    }\n",
       "\n",
       "    .dataframe tbody tr th {\n",
       "        vertical-align: top;\n",
       "    }\n",
       "\n",
       "    .dataframe thead th {\n",
       "        text-align: right;\n",
       "    }\n",
       "</style>\n",
       "<table border=\"1\" class=\"dataframe\">\n",
       "  <thead>\n",
       "    <tr style=\"text-align: right;\">\n",
       "      <th></th>\n",
       "      <th>Unnamed: 0</th>\n",
       "      <th>title</th>\n",
       "      <th>text</th>\n",
       "      <th>label</th>\n",
       "    </tr>\n",
       "  </thead>\n",
       "  <tbody>\n",
       "    <tr>\n",
       "      <th>0</th>\n",
       "      <td>1</td>\n",
       "      <td>Muslims BUSTED: They Stole Millions In Govât...</td>\n",
       "      <td>They should pay all the back all the money plu...</td>\n",
       "      <td>1</td>\n",
       "    </tr>\n",
       "    <tr>\n",
       "      <th>1</th>\n",
       "      <td>2</td>\n",
       "      <td>Re: Why Did Attorney General Loretta Lynch Ple...</td>\n",
       "      <td>Why Did Attorney General Loretta Lynch Plead T...</td>\n",
       "      <td>1</td>\n",
       "    </tr>\n",
       "    <tr>\n",
       "      <th>2</th>\n",
       "      <td>3</td>\n",
       "      <td>BREAKING: Weiner Cooperating With FBI On Hilla...</td>\n",
       "      <td>Red State : Fox News Sunday reported this morn...</td>\n",
       "      <td>1</td>\n",
       "    </tr>\n",
       "    <tr>\n",
       "      <th>3</th>\n",
       "      <td>4</td>\n",
       "      <td>PIN DROP SPEECH BY FATHER OF DAUGHTER Kidnappe...</td>\n",
       "      <td>Kayla Mueller was a prisoner and tortured by I...</td>\n",
       "      <td>1</td>\n",
       "    </tr>\n",
       "    <tr>\n",
       "      <th>4</th>\n",
       "      <td>5</td>\n",
       "      <td>FANTASTIC! TRUMP'S 7 POINT PLAN To Reform Heal...</td>\n",
       "      <td>HEALTHCARE REFORM TO MAKE AMERICA GREAT AGAIN ...</td>\n",
       "      <td>1</td>\n",
       "    </tr>\n",
       "  </tbody>\n",
       "</table>\n",
       "</div>"
      ],
      "text/plain": [
       "   Unnamed: 0                                              title  \\\n",
       "0           1  Muslims BUSTED: They Stole Millions In Govât...   \n",
       "1           2  Re: Why Did Attorney General Loretta Lynch Ple...   \n",
       "2           3  BREAKING: Weiner Cooperating With FBI On Hilla...   \n",
       "3           4  PIN DROP SPEECH BY FATHER OF DAUGHTER Kidnappe...   \n",
       "4           5  FANTASTIC! TRUMP'S 7 POINT PLAN To Reform Heal...   \n",
       "\n",
       "                                                text  label  \n",
       "0  They should pay all the back all the money plu...      1  \n",
       "1  Why Did Attorney General Loretta Lynch Plead T...      1  \n",
       "2  Red State : Fox News Sunday reported this morn...      1  \n",
       "3  Kayla Mueller was a prisoner and tortured by I...      1  \n",
       "4  HEALTHCARE REFORM TO MAKE AMERICA GREAT AGAIN ...      1  "
      ]
     },
     "execution_count": 2,
     "metadata": {},
     "output_type": "execute_result"
    }
   ],
   "source": [
    "data =  pd.read_csv(\"news_dataset_for_proj_081020.csv\", encoding='iso-8859-1')\n",
    "data.head()"
   ]
  },
  {
   "cell_type": "code",
   "execution_count": 3,
   "metadata": {},
   "outputs": [],
   "source": [
    "# Splitting training and testing data\n",
    "training,testing = train_test_split(data)\n",
    "# Training set: 10051\n",
    "# Testing set: 3351"
   ]
  },
  {
   "cell_type": "code",
   "execution_count": 4,
   "metadata": {},
   "outputs": [],
   "source": [
    "# Separating the true and fake data within the training set\n",
    "true = training[training['label'] == 0]\n",
    "fake = training[training['label'] == 1]"
   ]
  },
  {
   "cell_type": "markdown",
   "metadata": {},
   "source": [
    "## Classifiying based on TITLE "
   ]
  },
  {
   "cell_type": "code",
   "execution_count": 5,
   "metadata": {},
   "outputs": [],
   "source": [
    "true_title = {}\n",
    "fake_title= {}\n",
    "true_dict = {}\n",
    "fake_dict = {}"
   ]
  },
  {
   "cell_type": "code",
   "execution_count": 6,
   "metadata": {},
   "outputs": [],
   "source": [
    "# This function counts how many times a word appears in the text\n",
    "def extract_words(category,dictionary):\n",
    "    for entry in category['title']: # Can change to title, text or both\n",
    "        words = entry.split()\n",
    "        for word in words:\n",
    "            lower_word = word.lower()\n",
    "            if word in dictionary:\n",
    "                dictionary[lower_word] += 1\n",
    "            else:\n",
    "                dictionary[lower_word] = 1\n",
    "    return dictionary"
   ]
  },
  {
   "cell_type": "code",
   "execution_count": 7,
   "metadata": {},
   "outputs": [],
   "source": [
    "true_dict = extract_words(true, true_title)\n",
    "fake_dict = extract_words(fake, fake_title)\n"
   ]
  },
  {
   "cell_type": "code",
   "execution_count": 8,
   "metadata": {},
   "outputs": [],
   "source": [
    "true_length = len(true) #3119\n",
    "fake_length = len(fake) #6932"
   ]
  },
  {
   "cell_type": "code",
   "execution_count": 9,
   "metadata": {},
   "outputs": [],
   "source": [
    "def count_to_prob(dictionary,length):\n",
    "    for term in dictionary:\n",
    "        dictionary[term] = dictionary[term]/length\n",
    "    return dictionary\n",
    "\n",
    "true_prob = count_to_prob(true_dict, true_length)\n",
    "fake_prob = count_to_prob(fake_dict, fake_length)"
   ]
  },
  {
   "cell_type": "code",
   "execution_count": 10,
   "metadata": {},
   "outputs": [],
   "source": [
    "def calculate_probability(dictionary,X,initial):\n",
    "    X.translate(str.maketrans('', '', string.punctuation))\n",
    "    X = X.lower()\n",
    "    split = X.split()\n",
    "    probability = initial\n",
    "    for term in split:\n",
    "        if term in dictionary:\n",
    "            probability *= dictionary[term]\n",
    "            #print(term,dictionary[term])\n",
    "    return probability"
   ]
  },
  {
   "cell_type": "code",
   "execution_count": 11,
   "metadata": {},
   "outputs": [],
   "source": [
    "def classifier(X):\n",
    "    p_fake = calculate_probability(fake_prob,X,1)\n",
    "    p_true = calculate_probability(true_prob,X,1)\n",
    "    if p_true > p_fake:\n",
    "        #print(\"REAL NEWS\")\n",
    "        return(0)\n",
    "    else:\n",
    "        #print(\"FAKE NEWS\")\n",
    "        return(1)\n",
    "    \n",
    "#classifier('trump is the best')  "
   ]
  },
  {
   "cell_type": "markdown",
   "metadata": {},
   "source": [
    "### Testing the classifier on the testing dataset"
   ]
  },
  {
   "cell_type": "code",
   "execution_count": 12,
   "metadata": {},
   "outputs": [],
   "source": [
    "# Iterating the classifier function into the testing dataset \n",
    "ans = []\n",
    "for i in range(0,len(testing)):\n",
    "    x = testing[:i]['title']\n",
    "    x_label = classifier(str(x))\n",
    "    ans.append(x_label)   "
   ]
  },
  {
   "cell_type": "code",
   "execution_count": 17,
   "metadata": {},
   "outputs": [
    {
     "name": "stderr",
     "output_type": "stream",
     "text": [
      "<ipython-input-17-2093fd27a4f4>:1: SettingWithCopyWarning: \n",
      "A value is trying to be set on a copy of a slice from a DataFrame.\n",
      "Try using .loc[row_indexer,col_indexer] = value instead\n",
      "\n",
      "See the caveats in the documentation: https://pandas.pydata.org/pandas-docs/stable/user_guide/indexing.html#returning-a-view-versus-a-copy\n",
      "  testing['classified_label'] = ans\n"
     ]
    },
    {
     "data": {
      "text/html": [
       "<div>\n",
       "<style scoped>\n",
       "    .dataframe tbody tr th:only-of-type {\n",
       "        vertical-align: middle;\n",
       "    }\n",
       "\n",
       "    .dataframe tbody tr th {\n",
       "        vertical-align: top;\n",
       "    }\n",
       "\n",
       "    .dataframe thead th {\n",
       "        text-align: right;\n",
       "    }\n",
       "</style>\n",
       "<table border=\"1\" class=\"dataframe\">\n",
       "  <thead>\n",
       "    <tr style=\"text-align: right;\">\n",
       "      <th></th>\n",
       "      <th>Unnamed: 0</th>\n",
       "      <th>title</th>\n",
       "      <th>text</th>\n",
       "      <th>label</th>\n",
       "      <th>classified_label</th>\n",
       "    </tr>\n",
       "  </thead>\n",
       "  <tbody>\n",
       "    <tr>\n",
       "      <th>11274</th>\n",
       "      <td>19851</td>\n",
       "      <td>CCTV shows illegal migrants running for Spain'...</td>\n",
       "      <td>Spanish police have released video showing h...</td>\n",
       "      <td>0</td>\n",
       "      <td>1</td>\n",
       "    </tr>\n",
       "    <tr>\n",
       "      <th>2146</th>\n",
       "      <td>2150</td>\n",
       "      <td>We Found It! The Interview That George Soros D...</td>\n",
       "      <td>. We Found It! The Interview That George Soros...</td>\n",
       "      <td>1</td>\n",
       "      <td>0</td>\n",
       "    </tr>\n",
       "    <tr>\n",
       "      <th>6564</th>\n",
       "      <td>6568</td>\n",
       "      <td>JUDGE JEANINE RIPS DEMOCRATS: What Have Democr...</td>\n",
       "      <td>The truth is what you get with this judge! We ...</td>\n",
       "      <td>1</td>\n",
       "      <td>0</td>\n",
       "    </tr>\n",
       "    <tr>\n",
       "      <th>2798</th>\n",
       "      <td>2802</td>\n",
       "      <td>Vladivostok to Become a Pivotal Hub of the Asi...</td>\n",
       "      <td>Region: Russia in the World In August, 2016 th...</td>\n",
       "      <td>1</td>\n",
       "      <td>0</td>\n",
       "    </tr>\n",
       "    <tr>\n",
       "      <th>7909</th>\n",
       "      <td>7913</td>\n",
       "      <td>DRUG-RESISTANT SUPERBUG That Doctors Warned Of...</td>\n",
       "      <td>American doctors have warned about a drug-resi...</td>\n",
       "      <td>1</td>\n",
       "      <td>0</td>\n",
       "    </tr>\n",
       "    <tr>\n",
       "      <th>...</th>\n",
       "      <td>...</td>\n",
       "      <td>...</td>\n",
       "      <td>...</td>\n",
       "      <td>...</td>\n",
       "      <td>...</td>\n",
       "    </tr>\n",
       "    <tr>\n",
       "      <th>11405</th>\n",
       "      <td>21161</td>\n",
       "      <td>Autumn Statement: Buzzword bets on Osborne spe...</td>\n",
       "      <td>The odds on the most likely words to by utte...</td>\n",
       "      <td>0</td>\n",
       "      <td>0</td>\n",
       "    </tr>\n",
       "    <tr>\n",
       "      <th>9895</th>\n",
       "      <td>60610</td>\n",
       "      <td>Problems of poverty in Germany</td>\n",
       "      <td>Throughout the financial crisis in the euroz...</td>\n",
       "      <td>0</td>\n",
       "      <td>0</td>\n",
       "    </tr>\n",
       "    <tr>\n",
       "      <th>1423</th>\n",
       "      <td>1427</td>\n",
       "      <td>Comment on Unprecedented letter from Chair of ...</td>\n",
       "      <td>Posted on October 28, 2016 by Dr. Eowyn | 3 Co...</td>\n",
       "      <td>1</td>\n",
       "      <td>0</td>\n",
       "    </tr>\n",
       "    <tr>\n",
       "      <th>3457</th>\n",
       "      <td>3461</td>\n",
       "      <td>Thievesâ Picnic at Trust Bank: Russiaâs Bi...</td>\n",
       "      <td>by Lambert Strether Lambert here: John LeCarrÃ...</td>\n",
       "      <td>1</td>\n",
       "      <td>0</td>\n",
       "    </tr>\n",
       "    <tr>\n",
       "      <th>5241</th>\n",
       "      <td>5245</td>\n",
       "      <td>Mysterious Sands of Russia (RT Documentary)</td>\n",
       "      <td>41 Russia and Japan havenât been able to set...</td>\n",
       "      <td>1</td>\n",
       "      <td>0</td>\n",
       "    </tr>\n",
       "  </tbody>\n",
       "</table>\n",
       "<p>3351 rows × 5 columns</p>\n",
       "</div>"
      ],
      "text/plain": [
       "       Unnamed: 0                                              title  \\\n",
       "11274       19851  CCTV shows illegal migrants running for Spain'...   \n",
       "2146         2150  We Found It! The Interview That George Soros D...   \n",
       "6564         6568  JUDGE JEANINE RIPS DEMOCRATS: What Have Democr...   \n",
       "2798         2802  Vladivostok to Become a Pivotal Hub of the Asi...   \n",
       "7909         7913  DRUG-RESISTANT SUPERBUG That Doctors Warned Of...   \n",
       "...           ...                                                ...   \n",
       "11405       21161  Autumn Statement: Buzzword bets on Osborne spe...   \n",
       "9895        60610                     Problems of poverty in Germany   \n",
       "1423         1427  Comment on Unprecedented letter from Chair of ...   \n",
       "3457         3461  Thievesâ Picnic at Trust Bank: Russiaâs Bi...   \n",
       "5241         5245        Mysterious Sands of Russia (RT Documentary)   \n",
       "\n",
       "                                                    text  label  \\\n",
       "11274    Spanish police have released video showing h...      0   \n",
       "2146   . We Found It! The Interview That George Soros...      1   \n",
       "6564   The truth is what you get with this judge! We ...      1   \n",
       "2798   Region: Russia in the World In August, 2016 th...      1   \n",
       "7909   American doctors have warned about a drug-resi...      1   \n",
       "...                                                  ...    ...   \n",
       "11405    The odds on the most likely words to by utte...      0   \n",
       "9895     Throughout the financial crisis in the euroz...      0   \n",
       "1423   Posted on October 28, 2016 by Dr. Eowyn | 3 Co...      1   \n",
       "3457   by Lambert Strether Lambert here: John LeCarrÃ...      1   \n",
       "5241   41 Russia and Japan havenât been able to set...      1   \n",
       "\n",
       "       classified_label  \n",
       "11274                 1  \n",
       "2146                  0  \n",
       "6564                  0  \n",
       "2798                  0  \n",
       "7909                  0  \n",
       "...                 ...  \n",
       "11405                 0  \n",
       "9895                  0  \n",
       "1423                  0  \n",
       "3457                  0  \n",
       "5241                  0  \n",
       "\n",
       "[3351 rows x 5 columns]"
      ]
     },
     "execution_count": 17,
     "metadata": {},
     "output_type": "execute_result"
    }
   ],
   "source": [
    "testing['classified_label'] = ans\n",
    "testing"
   ]
  },
  {
   "cell_type": "code",
   "execution_count": 41,
   "metadata": {},
   "outputs": [
    {
     "data": {
      "text/plain": [
       "0.3139361384661295"
      ]
     },
     "execution_count": 41,
     "metadata": {},
     "output_type": "execute_result"
    }
   ],
   "source": [
    "accuracy_score(testing['label'], testing['classified_label'])"
   ]
  },
  {
   "cell_type": "code",
   "execution_count": 42,
   "metadata": {},
   "outputs": [
    {
     "data": {
      "text/plain": [
       "array([[1035,   20],\n",
       "       [2279,   17]])"
      ]
     },
     "execution_count": 42,
     "metadata": {},
     "output_type": "execute_result"
    }
   ],
   "source": [
    "cm_title = confusion_matrix(testing['label'], testing['classified_label'])\n",
    "cm_title"
   ]
  },
  {
   "cell_type": "code",
   "execution_count": 43,
   "metadata": {},
   "outputs": [],
   "source": [
    "cm_title = pd.DataFrame(cm_title, index=[0,1], columns=[0,1])\n",
    "cm_title.index.name = 'Actual'\n",
    "cm_title.columns.name = 'Predicted'"
   ]
  },
  {
   "cell_type": "code",
   "execution_count": 44,
   "metadata": {},
   "outputs": [
    {
     "data": {
      "text/plain": [
       "<matplotlib.axes._subplots.AxesSubplot at 0x7fb6e6543a90>"
      ]
     },
     "execution_count": 44,
     "metadata": {},
     "output_type": "execute_result"
    },
    {
     "data": {
      "image/png": "[encoded data removed]",
      "text/plain": [
       "<Figure size 720x720 with 2 Axes>"
      ]
     },
     "metadata": {
      "needs_background": "light"
     },
     "output_type": "display_data"
    }
   ],
   "source": [
    "plt.figure(figsize = (10,10))\n",
    "sns.heatmap(cm_title,cmap= \"Blues\",annot = True, fmt='')"
   ]
  },
  {
   "cell_type": "markdown",
   "metadata": {},
   "source": [
    "## Classifying based on TEXT"
   ]
  },
  {
   "cell_type": "code",
   "execution_count": 19,
   "metadata": {},
   "outputs": [],
   "source": [
    "true_text = {}\n",
    "fake_text= {}\n",
    "true_dict1 = {}\n",
    "fake_dict1 = {}"
   ]
  },
  {
   "cell_type": "code",
   "execution_count": 20,
   "metadata": {},
   "outputs": [],
   "source": [
    "# This function counts how many times a word appears in the text\n",
    "def extract_words1(category,dictionary):\n",
    "    for entry in category['text']: # Can change to title, text or both\n",
    "        words = str(entry).split()\n",
    "        for word in words:\n",
    "            lower_word = word.lower()\n",
    "            if word in dictionary:\n",
    "                dictionary[lower_word] += 1\n",
    "            else:\n",
    "                dictionary[lower_word] = 1\n",
    "    return dictionary"
   ]
  },
  {
   "cell_type": "code",
   "execution_count": 21,
   "metadata": {},
   "outputs": [],
   "source": [
    "true_dict1 = extract_words1(true, true_text)\n",
    "fake_dict1 = extract_words1(fake, fake_text)"
   ]
  },
  {
   "cell_type": "code",
   "execution_count": 22,
   "metadata": {},
   "outputs": [],
   "source": [
    "def count_to_prob(dictionary,length):\n",
    "    for term in dictionary:\n",
    "        dictionary[term] = dictionary[term]/length\n",
    "    return dictionary\n",
    "\n",
    "true_prob1 = count_to_prob(true_dict1, true_length)\n",
    "fake_prob1 = count_to_prob(fake_dict1, fake_length)"
   ]
  },
  {
   "cell_type": "code",
   "execution_count": 23,
   "metadata": {},
   "outputs": [],
   "source": [
    "def calculate_probability(dictionary,X,initial):\n",
    "    X.translate(str.maketrans('', '', string.punctuation))\n",
    "    X = X.lower()\n",
    "    split = X.split()\n",
    "    probability = initial\n",
    "    for term in split:\n",
    "        if term in dictionary:\n",
    "            probability *= dictionary[term]\n",
    "            #print(term,dictionary[term])\n",
    "    return probability"
   ]
  },
  {
   "cell_type": "code",
   "execution_count": 28,
   "metadata": {},
   "outputs": [],
   "source": [
    "def classifier1(X):\n",
    "    p_fake = calculate_probability(fake_prob1,X,1)\n",
    "    p_true = calculate_probability(true_prob1,X,1)\n",
    "    if p_true > p_fake:\n",
    "        #print(\"REAL NEWS\")\n",
    "        return(0)\n",
    "    else:\n",
    "        #print(\"FAKE NEWS\")\n",
    "        return(1)\n",
    "    \n",
    "#classifier('trump is the best') "
   ]
  },
  {
   "cell_type": "markdown",
   "metadata": {},
   "source": [
    "### Testing the classifier on the testing dataset"
   ]
  },
  {
   "cell_type": "code",
   "execution_count": 29,
   "metadata": {},
   "outputs": [],
   "source": [
    "# Iterating the classifier function into the testing dataset \n",
    "answer = []\n",
    "for i in range(0,len(testing)):\n",
    "    x = testing[:i]['text']\n",
    "    x_label = classifier1(str(x))\n",
    "    answer.append(x_label)   "
   ]
  },
  {
   "cell_type": "code",
   "execution_count": 30,
   "metadata": {},
   "outputs": [
    {
     "name": "stderr",
     "output_type": "stream",
     "text": [
      "<ipython-input-30-8ff8ea563ad9>:1: SettingWithCopyWarning: \n",
      "A value is trying to be set on a copy of a slice from a DataFrame.\n",
      "Try using .loc[row_indexer,col_indexer] = value instead\n",
      "\n",
      "See the caveats in the documentation: https://pandas.pydata.org/pandas-docs/stable/user_guide/indexing.html#returning-a-view-versus-a-copy\n",
      "  testing['classified_label_forTEXT'] = answer\n"
     ]
    },
    {
     "data": {
      "text/html": [
       "<div>\n",
       "<style scoped>\n",
       "    .dataframe tbody tr th:only-of-type {\n",
       "        vertical-align: middle;\n",
       "    }\n",
       "\n",
       "    .dataframe tbody tr th {\n",
       "        vertical-align: top;\n",
       "    }\n",
       "\n",
       "    .dataframe thead th {\n",
       "        text-align: right;\n",
       "    }\n",
       "</style>\n",
       "<table border=\"1\" class=\"dataframe\">\n",
       "  <thead>\n",
       "    <tr style=\"text-align: right;\">\n",
       "      <th></th>\n",
       "      <th>Unnamed: 0</th>\n",
       "      <th>title</th>\n",
       "      <th>text</th>\n",
       "      <th>label</th>\n",
       "      <th>classified_label</th>\n",
       "      <th>classified_label_forTEXT</th>\n",
       "    </tr>\n",
       "  </thead>\n",
       "  <tbody>\n",
       "    <tr>\n",
       "      <th>11274</th>\n",
       "      <td>19851</td>\n",
       "      <td>CCTV shows illegal migrants running for Spain'...</td>\n",
       "      <td>Spanish police have released video showing h...</td>\n",
       "      <td>0</td>\n",
       "      <td>1</td>\n",
       "      <td>1</td>\n",
       "    </tr>\n",
       "    <tr>\n",
       "      <th>2146</th>\n",
       "      <td>2150</td>\n",
       "      <td>We Found It! The Interview That George Soros D...</td>\n",
       "      <td>. We Found It! The Interview That George Soros...</td>\n",
       "      <td>1</td>\n",
       "      <td>0</td>\n",
       "      <td>0</td>\n",
       "    </tr>\n",
       "    <tr>\n",
       "      <th>6564</th>\n",
       "      <td>6568</td>\n",
       "      <td>JUDGE JEANINE RIPS DEMOCRATS: What Have Democr...</td>\n",
       "      <td>The truth is what you get with this judge! We ...</td>\n",
       "      <td>1</td>\n",
       "      <td>0</td>\n",
       "      <td>0</td>\n",
       "    </tr>\n",
       "    <tr>\n",
       "      <th>2798</th>\n",
       "      <td>2802</td>\n",
       "      <td>Vladivostok to Become a Pivotal Hub of the Asi...</td>\n",
       "      <td>Region: Russia in the World In August, 2016 th...</td>\n",
       "      <td>1</td>\n",
       "      <td>0</td>\n",
       "      <td>0</td>\n",
       "    </tr>\n",
       "    <tr>\n",
       "      <th>7909</th>\n",
       "      <td>7913</td>\n",
       "      <td>DRUG-RESISTANT SUPERBUG That Doctors Warned Of...</td>\n",
       "      <td>American doctors have warned about a drug-resi...</td>\n",
       "      <td>1</td>\n",
       "      <td>0</td>\n",
       "      <td>0</td>\n",
       "    </tr>\n",
       "    <tr>\n",
       "      <th>...</th>\n",
       "      <td>...</td>\n",
       "      <td>...</td>\n",
       "      <td>...</td>\n",
       "      <td>...</td>\n",
       "      <td>...</td>\n",
       "      <td>...</td>\n",
       "    </tr>\n",
       "    <tr>\n",
       "      <th>11405</th>\n",
       "      <td>21161</td>\n",
       "      <td>Autumn Statement: Buzzword bets on Osborne spe...</td>\n",
       "      <td>The odds on the most likely words to by utte...</td>\n",
       "      <td>0</td>\n",
       "      <td>0</td>\n",
       "      <td>0</td>\n",
       "    </tr>\n",
       "    <tr>\n",
       "      <th>9895</th>\n",
       "      <td>60610</td>\n",
       "      <td>Problems of poverty in Germany</td>\n",
       "      <td>Throughout the financial crisis in the euroz...</td>\n",
       "      <td>0</td>\n",
       "      <td>0</td>\n",
       "      <td>0</td>\n",
       "    </tr>\n",
       "    <tr>\n",
       "      <th>1423</th>\n",
       "      <td>1427</td>\n",
       "      <td>Comment on Unprecedented letter from Chair of ...</td>\n",
       "      <td>Posted on October 28, 2016 by Dr. Eowyn | 3 Co...</td>\n",
       "      <td>1</td>\n",
       "      <td>0</td>\n",
       "      <td>0</td>\n",
       "    </tr>\n",
       "    <tr>\n",
       "      <th>3457</th>\n",
       "      <td>3461</td>\n",
       "      <td>Thievesâ Picnic at Trust Bank: Russiaâs Bi...</td>\n",
       "      <td>by Lambert Strether Lambert here: John LeCarrÃ...</td>\n",
       "      <td>1</td>\n",
       "      <td>0</td>\n",
       "      <td>0</td>\n",
       "    </tr>\n",
       "    <tr>\n",
       "      <th>5241</th>\n",
       "      <td>5245</td>\n",
       "      <td>Mysterious Sands of Russia (RT Documentary)</td>\n",
       "      <td>41 Russia and Japan havenât been able to set...</td>\n",
       "      <td>1</td>\n",
       "      <td>0</td>\n",
       "      <td>0</td>\n",
       "    </tr>\n",
       "  </tbody>\n",
       "</table>\n",
       "<p>3351 rows × 6 columns</p>\n",
       "</div>"
      ],
      "text/plain": [
       "       Unnamed: 0                                              title  \\\n",
       "11274       19851  CCTV shows illegal migrants running for Spain'...   \n",
       "2146         2150  We Found It! The Interview That George Soros D...   \n",
       "6564         6568  JUDGE JEANINE RIPS DEMOCRATS: What Have Democr...   \n",
       "2798         2802  Vladivostok to Become a Pivotal Hub of the Asi...   \n",
       "7909         7913  DRUG-RESISTANT SUPERBUG That Doctors Warned Of...   \n",
       "...           ...                                                ...   \n",
       "11405       21161  Autumn Statement: Buzzword bets on Osborne spe...   \n",
       "9895        60610                     Problems of poverty in Germany   \n",
       "1423         1427  Comment on Unprecedented letter from Chair of ...   \n",
       "3457         3461  Thievesâ Picnic at Trust Bank: Russiaâs Bi...   \n",
       "5241         5245        Mysterious Sands of Russia (RT Documentary)   \n",
       "\n",
       "                                                    text  label  \\\n",
       "11274    Spanish police have released video showing h...      0   \n",
       "2146   . We Found It! The Interview That George Soros...      1   \n",
       "6564   The truth is what you get with this judge! We ...      1   \n",
       "2798   Region: Russia in the World In August, 2016 th...      1   \n",
       "7909   American doctors have warned about a drug-resi...      1   \n",
       "...                                                  ...    ...   \n",
       "11405    The odds on the most likely words to by utte...      0   \n",
       "9895     Throughout the financial crisis in the euroz...      0   \n",
       "1423   Posted on October 28, 2016 by Dr. Eowyn | 3 Co...      1   \n",
       "3457   by Lambert Strether Lambert here: John LeCarrÃ...      1   \n",
       "5241   41 Russia and Japan havenât been able to set...      1   \n",
       "\n",
       "       classified_label  classified_label_forTEXT  \n",
       "11274                 1                         1  \n",
       "2146                  0                         0  \n",
       "6564                  0                         0  \n",
       "2798                  0                         0  \n",
       "7909                  0                         0  \n",
       "...                 ...                       ...  \n",
       "11405                 0                         0  \n",
       "9895                  0                         0  \n",
       "1423                  0                         0  \n",
       "3457                  0                         0  \n",
       "5241                  0                         0  \n",
       "\n",
       "[3351 rows x 6 columns]"
      ]
     },
     "execution_count": 30,
     "metadata": {},
     "output_type": "execute_result"
    }
   ],
   "source": [
    "testing['classified_label_forTEXT'] = answer\n",
    "testing"
   ]
  },
  {
   "cell_type": "code",
   "execution_count": 31,
   "metadata": {},
   "outputs": [
    {
     "data": {
      "text/plain": [
       "0.3142345568487019"
      ]
     },
     "execution_count": 31,
     "metadata": {},
     "output_type": "execute_result"
    }
   ],
   "source": [
    "accuracy_score(testing['label'], testing['classified_label_forTEXT'])"
   ]
  },
  {
   "cell_type": "code",
   "execution_count": 38,
   "metadata": {},
   "outputs": [
    {
     "data": {
      "text/plain": [
       "array([[1034,   21],\n",
       "       [2277,   19]])"
      ]
     },
     "execution_count": 38,
     "metadata": {},
     "output_type": "execute_result"
    }
   ],
   "source": [
    "cm_text = confusion_matrix(testing['label'], testing['classified_label_forTEXT'])\n",
    "cm_text"
   ]
  },
  {
   "cell_type": "code",
   "execution_count": 39,
   "metadata": {},
   "outputs": [],
   "source": [
    "cm_text = pd.DataFrame(cm_text, index=[0,1], columns=[0,1])\n",
    "cm_text.index.name = 'Actual'\n",
    "cm_text.columns.name = 'Predicted'"
   ]
  },
  {
   "cell_type": "code",
   "execution_count": 40,
   "metadata": {},
   "outputs": [
    {
     "data": {
      "text/plain": [
       "<matplotlib.axes._subplots.AxesSubplot at 0x7fb6e6369610>"
      ]
     },
     "execution_count": 40,
     "metadata": {},
     "output_type": "execute_result"
    },
    {
     "data": {
      "image/png": "[encoded data removed]",
      "text/plain": [
       "<Figure size 720x720 with 2 Axes>"
      ]
     },
     "metadata": {
      "needs_background": "light"
     },
     "output_type": "display_data"
    }
   ],
   "source": [
    "plt.figure(figsize = (10,10))\n",
    "sns.heatmap(cm_text,cmap= \"Blues\",annot = True, fmt='')"
   ]
  },
  {
   "cell_type": "code",
   "execution_count": null,
   "metadata": {},
   "outputs": [],
   "source": []
  }
 ],
 "metadata": {
  "kernelspec": {
   "display_name": "Python 3",
   "language": "python",
   "name": "python3"
  },
  "language_info": {
   "codemirror_mode": {
    "name": "ipython",
    "version": 3
   },
   "file_extension": ".py",
   "mimetype": "text/x-python",
   "name": "python",
   "nbconvert_exporter": "python",
   "pygments_lexer": "ipython3",
   "version": "3.8.3"
  }
 },
 "nbformat": 4,
 "nbformat_minor": 4
}
