{
 "cells": [
  {
   "cell_type": "markdown",
   "metadata": {},
   "source": [
    "# Fake News Classification with CNN and CNN-LSTM "
   ]
  },
  {
   "cell_type": "code",
   "execution_count": 1,
   "metadata": {},
   "outputs": [],
   "source": [
    "#Normal Packages\n",
    "import numpy as np\n",
    "import pandas as pd\n",
    "import seaborn as sns\n",
    "import matplotlib.pyplot as plt\n",
    "import nltk\n",
    "from nltk.tokenize import sent_tokenize,word_tokenize\n",
    "from tensorflow import keras as k\n",
    "\n",
    "from keras.models import Model, Sequential\n",
    "from keras.layers import Input, Dense, Flatten, Dropout, Activation, BatchNormalization, LSTM, TimeDistributed\n",
    "from keras.layers import Concatenate, Conv2D, MaxPooling2D, GRU\n",
    "from keras.layers.convolutional import Conv1D, MaxPooling1D\n",
    "from keras.layers.embeddings import Embedding\n",
    "\n",
    "import tensorflow as tf\n",
    "from textblob import TextBlob\n",
    "from collections import Counter\n",
    "from keras.preprocessing import sequence\n",
    "from tensorflow.python.keras.preprocessing.text import Tokenizer\n",
    "from tensorflow.python.keras.preprocessing.sequence import pad_sequences\n",
    "import regex as re\n",
    "from sklearn.model_selection import train_test_split\n",
    "from sklearn.metrics import accuracy_score\n",
    "from sklearn.metrics import classification_report\n",
    "from sklearn.metrics import confusion_matrix\n",
    "from sklearn import metrics\n",
    "\n",
    "\n",
    "def read_pairs(path, separator='\\t', cast=(str, str), offset=0):\n",
    "    with open(path) as f:\n",
    "        return [(cast[0](k), cast[1](v)) for line in f.readlines()[offset:] for k, v in [line.rstrip().split(separator)]]\n"
   ]
  },
  {
   "cell_type": "markdown",
   "metadata": {},
   "source": [
    "### Importing the dataset"
   ]
  },
  {
   "cell_type": "code",
   "execution_count": 2,
   "metadata": {},
   "outputs": [],
   "source": [
    "test_path = \"../data/final/test.csv\"\n",
    "\n",
    "raw_data_test = dict(read_pairs(test_path, cast=(int,str), offset=1))\n",
    "data_test = {\n",
    "    'id': pd.Index(list(raw_data_test.keys())),\n",
    "    'text': pd.Index(list(raw_data_test.values()))\n",
    "}\n",
    "\n",
    "test = pd.DataFrame(data_test)"
   ]
  },
  {
   "cell_type": "code",
   "execution_count": 3,
   "metadata": {},
   "outputs": [],
   "source": [
    "train = pd.read_csv(\"../data/final/data_cleaned.csv\")"
   ]
  },
  {
   "cell_type": "code",
   "execution_count": 4,
   "metadata": {},
   "outputs": [
    {
     "data": {
      "text/html": [
       "<div>\n",
       "<style scoped>\n",
       "    .dataframe tbody tr th:only-of-type {\n",
       "        vertical-align: middle;\n",
       "    }\n",
       "\n",
       "    .dataframe tbody tr th {\n",
       "        vertical-align: top;\n",
       "    }\n",
       "\n",
       "    .dataframe thead th {\n",
       "        text-align: right;\n",
       "    }\n",
       "</style>\n",
       "<table border=\"1\" class=\"dataframe\">\n",
       "  <thead>\n",
       "    <tr style=\"text-align: right;\">\n",
       "      <th></th>\n",
       "      <th>label</th>\n",
       "      <th>text</th>\n",
       "      <th>sent</th>\n",
       "      <th>lexical_diver</th>\n",
       "      <th>use_super</th>\n",
       "      <th>len_exclaim</th>\n",
       "      <th>len_question</th>\n",
       "      <th>first_person</th>\n",
       "    </tr>\n",
       "  </thead>\n",
       "  <tbody>\n",
       "    <tr>\n",
       "      <th>0</th>\n",
       "      <td>1</td>\n",
       "      <td>get the latest from today sign up for our news...</td>\n",
       "      <td>0.1531</td>\n",
       "      <td>0.537662</td>\n",
       "      <td>1</td>\n",
       "      <td>0</td>\n",
       "      <td>0</td>\n",
       "      <td>8</td>\n",
       "    </tr>\n",
       "    <tr>\n",
       "      <th>1</th>\n",
       "      <td>1</td>\n",
       "      <td>2d  conan on the funeral trump will be invited...</td>\n",
       "      <td>-0.3612</td>\n",
       "      <td>0.857143</td>\n",
       "      <td>0</td>\n",
       "      <td>0</td>\n",
       "      <td>0</td>\n",
       "      <td>0</td>\n",
       "    </tr>\n",
       "    <tr>\n",
       "      <th>2</th>\n",
       "      <td>0</td>\n",
       "      <td>it’s safe to say that instagram stories has fa...</td>\n",
       "      <td>0.9879</td>\n",
       "      <td>0.536862</td>\n",
       "      <td>1</td>\n",
       "      <td>6</td>\n",
       "      <td>2</td>\n",
       "      <td>5</td>\n",
       "    </tr>\n",
       "    <tr>\n",
       "      <th>3</th>\n",
       "      <td>0</td>\n",
       "      <td>much like a certain amazon goddess with a lass...</td>\n",
       "      <td>0.9992</td>\n",
       "      <td>0.348816</td>\n",
       "      <td>5</td>\n",
       "      <td>2</td>\n",
       "      <td>2</td>\n",
       "      <td>32</td>\n",
       "    </tr>\n",
       "    <tr>\n",
       "      <th>4</th>\n",
       "      <td>0</td>\n",
       "      <td>at a time when the perfect outfit is just one ...</td>\n",
       "      <td>0.7234</td>\n",
       "      <td>0.682927</td>\n",
       "      <td>0</td>\n",
       "      <td>0</td>\n",
       "      <td>0</td>\n",
       "      <td>0</td>\n",
       "    </tr>\n",
       "  </tbody>\n",
       "</table>\n",
       "</div>"
      ],
      "text/plain": [
       "   label                                               text    sent  \\\n",
       "0      1  get the latest from today sign up for our news...  0.1531   \n",
       "1      1  2d  conan on the funeral trump will be invited... -0.3612   \n",
       "2      0  it’s safe to say that instagram stories has fa...  0.9879   \n",
       "3      0  much like a certain amazon goddess with a lass...  0.9992   \n",
       "4      0  at a time when the perfect outfit is just one ...  0.7234   \n",
       "\n",
       "   lexical_diver  use_super  len_exclaim  len_question  first_person  \n",
       "0       0.537662          1            0             0             8  \n",
       "1       0.857143          0            0             0             0  \n",
       "2       0.536862          1            6             2             5  \n",
       "3       0.348816          5            2             2            32  \n",
       "4       0.682927          0            0             0             0  "
      ]
     },
     "execution_count": 4,
     "metadata": {},
     "output_type": "execute_result"
    }
   ],
   "source": [
    "train.head()"
   ]
  },
  {
   "cell_type": "code",
   "execution_count": 5,
   "metadata": {},
   "outputs": [
    {
     "data": {
      "text/html": [
       "<div>\n",
       "<style scoped>\n",
       "    .dataframe tbody tr th:only-of-type {\n",
       "        vertical-align: middle;\n",
       "    }\n",
       "\n",
       "    .dataframe tbody tr th {\n",
       "        vertical-align: top;\n",
       "    }\n",
       "\n",
       "    .dataframe thead th {\n",
       "        text-align: right;\n",
       "    }\n",
       "</style>\n",
       "<table border=\"1\" class=\"dataframe\">\n",
       "  <thead>\n",
       "    <tr style=\"text-align: right;\">\n",
       "      <th></th>\n",
       "      <th>id</th>\n",
       "      <th>text</th>\n",
       "    </tr>\n",
       "  </thead>\n",
       "  <tbody>\n",
       "    <tr>\n",
       "      <th>0</th>\n",
       "      <td>2</td>\n",
       "      <td>The 2017 Teen Choice Awards ceremony was held ...</td>\n",
       "    </tr>\n",
       "    <tr>\n",
       "      <th>1</th>\n",
       "      <td>3</td>\n",
       "      <td>The concert, part of “The Joshua Tree Tour,” w...</td>\n",
       "    </tr>\n",
       "    <tr>\n",
       "      <th>2</th>\n",
       "      <td>4</td>\n",
       "      <td>Selena Gomez refuses to talk to her mother abo...</td>\n",
       "    </tr>\n",
       "    <tr>\n",
       "      <th>3</th>\n",
       "      <td>5</td>\n",
       "      <td>This is worse than a lump of coal in your stoc...</td>\n",
       "    </tr>\n",
       "    <tr>\n",
       "      <th>4</th>\n",
       "      <td>6</td>\n",
       "      <td>Luann De Lesseps is going to rehab after her a...</td>\n",
       "    </tr>\n",
       "  </tbody>\n",
       "</table>\n",
       "</div>"
      ],
      "text/plain": [
       "   id                                               text\n",
       "0   2  The 2017 Teen Choice Awards ceremony was held ...\n",
       "1   3  The concert, part of “The Joshua Tree Tour,” w...\n",
       "2   4  Selena Gomez refuses to talk to her mother abo...\n",
       "3   5  This is worse than a lump of coal in your stoc...\n",
       "4   6  Luann De Lesseps is going to rehab after her a..."
      ]
     },
     "execution_count": 5,
     "metadata": {},
     "output_type": "execute_result"
    }
   ],
   "source": [
    "test.head()"
   ]
  },
  {
   "cell_type": "markdown",
   "metadata": {},
   "source": [
    "### Preprocessing for test dataset"
   ]
  },
  {
   "cell_type": "markdown",
   "metadata": {},
   "source": [
    "## Creation of Handpicked Features\n",
    "\n",
    "\n",
    "During our consultation, we felt that there may be additional features that we may find interesting and we would want to feed into our model. These include:\n",
    "\n",
    "* The average length of words in a sentence in the text\n",
    "* The number of exclamations\n",
    "* The number of superlatives in the text\n",
    "* The classification result of the title"
   ]
  },
  {
   "cell_type": "code",
   "execution_count": 6,
   "metadata": {},
   "outputs": [
    {
     "name": "stderr",
     "output_type": "stream",
     "text": [
      "[nltk_data] Downloading package vader_lexicon to\n",
      "[nltk_data]     /Users/chengling/nltk_data...\n",
      "[nltk_data]   Package vader_lexicon is already up-to-date!\n"
     ]
    }
   ],
   "source": [
    "## Auxillary functions\n",
    "\n",
    "#Counts the words that are in first person\n",
    "def count_person_forms(text, person):\n",
    "    text = tokenize(text.lower())\n",
    "    counter = 0\n",
    "    for word in text:\n",
    "        if word in person:\n",
    "            counter += 1\n",
    "    return counter\n",
    "\n",
    "#Sentiment analysis using vader sentiment\n",
    "from nltk.sentiment.vader import SentimentIntensityAnalyzer\n",
    "import nltk\n",
    "nltk.download('vader_lexicon')\n",
    "\n",
    "def classify_sentiment(text):\n",
    "    sid = SentimentIntensityAnalyzer()\n",
    "    text = text.replace(\"\\n\\n\", \". \").replace(\"\\n\", \". \")\n",
    "    #Remove URLs\n",
    "    text = re.sub(r\"http\\S+\", \"\", text)\n",
    "    pol = sid.polarity_scores(text)['compound']\n",
    "    return pol\n",
    "\n",
    "#Count the lexical diversity of the text\n",
    "def lexical_diversity(text):\n",
    "    #Remove URLs\n",
    "    text = re.sub(r\"http\\S+\", \"\", text)\n",
    "    text = tokenize(text.lower())\n",
    "    if len(text) == 0:\n",
    "        return 0\n",
    "    return len(set(text)) / len(text)\n",
    "\n",
    "def percentage(count, total):\n",
    "    return 100 * count / total\n",
    "\n",
    "#Counts the number of superlatives in the text\n",
    "from textblob import TextBlob\n",
    "\n",
    "def textblob_adj(text):\n",
    "    blobed = TextBlob(text)\n",
    "    counts = Counter(tag for word,tag in blobed.tags)\n",
    "    super_list = []\n",
    "    super_tag_list = ['JJS','RBS']\n",
    "    for (a, b) in blobed.tags:\n",
    "        if b in super_tag_list:\n",
    "           super_list.append(a)\n",
    "    return counts['JJS'] + counts['RBS']\n",
    "\n",
    "def list_superlatives(text):\n",
    "    add_list = []\n",
    "    for txt in text:\n",
    "        add_list.append(textblob_adj(txt))\n",
    "    return add_list\n",
    "\n",
    "from nltk.tokenize import RegexpTokenizer\n",
    "def tokenize(text):\n",
    "    tokenizer = RegexpTokenizer('\\w+|\\$[\\d\\.]+|\\S+')\n",
    "    tokens = tokenizer.tokenize(text)\n",
    "    return tokens"
   ]
  },
  {
   "cell_type": "code",
   "execution_count": 7,
   "metadata": {},
   "outputs": [],
   "source": [
    "test['sent'] = test.apply(lambda r: classify_sentiment(r['text']), axis=1)\n",
    "\n",
    "test['lexical_diver'] = test.apply(lambda r: lexical_diversity(r['text']), axis=1)\n",
    "\n",
    "test = test.assign(use_super = list_superlatives(test.text))\n",
    "\n",
    "test['len_exclaim'] = test.text.str.count(\"!\")\n",
    "test['len_question']= test.text.str.count(\"\\?\")\n",
    "\n",
    "first_person = [\"i\", \"me\", \"mine\", \"we\", \"us\", \"our\", \"ours\"]\n",
    "test['first_person'] = test.apply(lambda row: count_person_forms(row['text'], first_person), axis=1)\n",
    "\n",
    "test[\"text\"] = test[\"text\"].str.lower()"
   ]
  },
  {
   "cell_type": "code",
   "execution_count": 8,
   "metadata": {},
   "outputs": [
    {
     "data": {
      "text/html": [
       "<div>\n",
       "<style scoped>\n",
       "    .dataframe tbody tr th:only-of-type {\n",
       "        vertical-align: middle;\n",
       "    }\n",
       "\n",
       "    .dataframe tbody tr th {\n",
       "        vertical-align: top;\n",
       "    }\n",
       "\n",
       "    .dataframe thead th {\n",
       "        text-align: right;\n",
       "    }\n",
       "</style>\n",
       "<table border=\"1\" class=\"dataframe\">\n",
       "  <thead>\n",
       "    <tr style=\"text-align: right;\">\n",
       "      <th></th>\n",
       "      <th>id</th>\n",
       "      <th>text</th>\n",
       "      <th>sent</th>\n",
       "      <th>lexical_diver</th>\n",
       "      <th>use_super</th>\n",
       "      <th>len_exclaim</th>\n",
       "      <th>len_question</th>\n",
       "      <th>first_person</th>\n",
       "    </tr>\n",
       "  </thead>\n",
       "  <tbody>\n",
       "    <tr>\n",
       "      <th>0</th>\n",
       "      <td>2</td>\n",
       "      <td>the 2017 teen choice awards ceremony was held ...</td>\n",
       "      <td>0.9360</td>\n",
       "      <td>0.559471</td>\n",
       "      <td>0</td>\n",
       "      <td>0</td>\n",
       "      <td>0</td>\n",
       "      <td>0</td>\n",
       "    </tr>\n",
       "    <tr>\n",
       "      <th>1</th>\n",
       "      <td>3</td>\n",
       "      <td>the concert, part of “the joshua tree tour,” w...</td>\n",
       "      <td>-0.9807</td>\n",
       "      <td>0.489960</td>\n",
       "      <td>0</td>\n",
       "      <td>2</td>\n",
       "      <td>2</td>\n",
       "      <td>11</td>\n",
       "    </tr>\n",
       "    <tr>\n",
       "      <th>2</th>\n",
       "      <td>4</td>\n",
       "      <td>selena gomez refuses to talk to her mother abo...</td>\n",
       "      <td>0.9917</td>\n",
       "      <td>0.450135</td>\n",
       "      <td>0</td>\n",
       "      <td>1</td>\n",
       "      <td>0</td>\n",
       "      <td>2</td>\n",
       "    </tr>\n",
       "    <tr>\n",
       "      <th>3</th>\n",
       "      <td>5</td>\n",
       "      <td>this is worse than a lump of coal in your stoc...</td>\n",
       "      <td>0.9876</td>\n",
       "      <td>0.465979</td>\n",
       "      <td>0</td>\n",
       "      <td>1</td>\n",
       "      <td>2</td>\n",
       "      <td>1</td>\n",
       "    </tr>\n",
       "    <tr>\n",
       "      <th>4</th>\n",
       "      <td>6</td>\n",
       "      <td>luann de lesseps is going to rehab after her a...</td>\n",
       "      <td>0.9563</td>\n",
       "      <td>0.613718</td>\n",
       "      <td>1</td>\n",
       "      <td>0</td>\n",
       "      <td>0</td>\n",
       "      <td>5</td>\n",
       "    </tr>\n",
       "  </tbody>\n",
       "</table>\n",
       "</div>"
      ],
      "text/plain": [
       "   id                                               text    sent  \\\n",
       "0   2  the 2017 teen choice awards ceremony was held ...  0.9360   \n",
       "1   3  the concert, part of “the joshua tree tour,” w... -0.9807   \n",
       "2   4  selena gomez refuses to talk to her mother abo...  0.9917   \n",
       "3   5  this is worse than a lump of coal in your stoc...  0.9876   \n",
       "4   6  luann de lesseps is going to rehab after her a...  0.9563   \n",
       "\n",
       "   lexical_diver  use_super  len_exclaim  len_question  first_person  \n",
       "0       0.559471          0            0             0             0  \n",
       "1       0.489960          0            2             2            11  \n",
       "2       0.450135          0            1             0             2  \n",
       "3       0.465979          0            1             2             1  \n",
       "4       0.613718          1            0             0             5  "
      ]
     },
     "execution_count": 8,
     "metadata": {},
     "output_type": "execute_result"
    }
   ],
   "source": [
    "test.head()"
   ]
  },
  {
   "cell_type": "markdown",
   "metadata": {},
   "source": [
    "## Padding and embedding the data\n",
    "\n",
    "We use the GloVe embeddings..."
   ]
  },
  {
   "cell_type": "code",
   "execution_count": 9,
   "metadata": {},
   "outputs": [
    {
     "name": "stdout",
     "output_type": "stream",
     "text": [
      "83790\n"
     ]
    }
   ],
   "source": [
    "tokenizer = Tokenizer()\n",
    "tokenizer.fit_on_texts(train.text)\n",
    "\n",
    "#tokenizing by word, maybe can think of way to tokenize by sentence\n",
    "word_index = tokenizer.word_index\n",
    "vocab_size = len(word_index)\n",
    "\n",
    "print(vocab_size)"
   ]
  },
  {
   "cell_type": "code",
   "execution_count": 10,
   "metadata": {},
   "outputs": [],
   "source": [
    "#padding data \n",
    "\n",
    "sequences = tokenizer.texts_to_sequences(train.text)\n",
    "padded = pad_sequences(sequences, maxlen=500, padding='post', truncating='post')\n"
   ]
  },
  {
   "cell_type": "code",
   "execution_count": 11,
   "metadata": {},
   "outputs": [
    {
     "name": "stdout",
     "output_type": "stream",
     "text": [
      "100\n"
     ]
    }
   ],
   "source": [
    "embeddings_index = {}\n",
    "with open('../experimental/rnn/glove.6B.100d.txt', encoding='utf-8') as f:\n",
    "    for line in f:\n",
    "        values = line.split()\n",
    "        word = values[0]\n",
    "        coefs = np.asarray(values[1:], dtype='float32')\n",
    "        embeddings_index[word] = coefs\n",
    "print(len(coefs))\n",
    "\n",
    "embeddings_matrix = np.zeros((vocab_size+1, 100))\n",
    "for word, i in word_index.items():\n",
    "    embedding_vector = embeddings_index.get(word)\n",
    "    if embedding_vector is not None:\n",
    "        embeddings_matrix[i] = embedding_vector\n"
   ]
  },
  {
   "cell_type": "code",
   "execution_count": 12,
   "metadata": {},
   "outputs": [],
   "source": [
    "latent_train = train.iloc[0:,2:]"
   ]
  },
  {
   "cell_type": "code",
   "execution_count": 13,
   "metadata": {},
   "outputs": [
    {
     "name": "stdout",
     "output_type": "stream",
     "text": [
      "Shape of training data: \n",
      "(3784, 500)\n",
      "(3784,)\n",
      "Shape of test data: \n",
      "(947, 500)\n",
      "(947,)\n",
      "Shape of latent data: \n",
      "(3784, 6)\n",
      "(947, 6)\n"
     ]
    }
   ],
   "source": [
    "x_train,x_test,new_train,new_test,y_train,y_test = train_test_split(padded,latent_train,train.label,test_size = 0.2,random_state = 42)\n",
    "\n",
    "print('Shape of training data: ') #number of dimension in the array\n",
    "print(x_train.shape) \n",
    "print(y_train.shape)\n",
    "print('Shape of test data: ') #number of dimension in the array\n",
    "print(x_test.shape)\n",
    "print(y_test.shape)\n",
    "print('Shape of latent data: ') #number of dimension in the array\n",
    "print(new_train.shape)\n",
    "print(new_test.shape)"
   ]
  },
  {
   "cell_type": "markdown",
   "metadata": {},
   "source": [
    "### Tokenizing and embedding of test data"
   ]
  },
  {
   "cell_type": "code",
   "execution_count": 14,
   "metadata": {},
   "outputs": [
    {
     "name": "stdout",
     "output_type": "stream",
     "text": [
      "40295\n"
     ]
    }
   ],
   "source": [
    "test[\"text\"] = test.text.str.lower()\n",
    "\n",
    "tokenizer_test = Tokenizer()\n",
    "tokenizer_test.fit_on_texts(test.text)\n",
    "\n",
    "#tokenizing by word, maybe can think of way to tokenize by sentence\n",
    "word_index_test = tokenizer_test.word_index\n",
    "vocab_size_test = len(word_index_test)\n",
    "\n",
    "print(vocab_size_test)"
   ]
  },
  {
   "cell_type": "code",
   "execution_count": 15,
   "metadata": {},
   "outputs": [],
   "source": [
    "#padding data \n",
    "\n",
    "sequences_test = tokenizer_test.texts_to_sequences(test.text)\n",
    "padded_test = pad_sequences(sequences_test, maxlen=500, padding='post', truncating='post')"
   ]
  },
  {
   "cell_type": "code",
   "execution_count": 16,
   "metadata": {},
   "outputs": [
    {
     "name": "stdout",
     "output_type": "stream",
     "text": [
      "100\n"
     ]
    }
   ],
   "source": [
    "embeddings_index_test = {}\n",
    "with open('../experimental/rnn/glove.6B.100d.txt', encoding='utf-8') as f:\n",
    "    for line in f:\n",
    "        values = line.split()\n",
    "        word = values[0]\n",
    "        coefs = np.asarray(values[1:], dtype='float32')\n",
    "        embeddings_index_test[word] = coefs\n",
    "print(len(coefs))\n",
    "\n",
    "embeddings_matrix_test = np.zeros((vocab_size_test+1, 100))\n",
    "for word, i in word_index_test.items():\n",
    "    embedding_vector = embeddings_index_test.get(word)\n",
    "    if embedding_vector is not None:\n",
    "        embeddings_matrix_test[i] = embedding_vector"
   ]
  },
  {
   "cell_type": "code",
   "execution_count": 17,
   "metadata": {},
   "outputs": [],
   "source": [
    "latent_test = test.iloc[0:,2:]"
   ]
  },
  {
   "cell_type": "markdown",
   "metadata": {},
   "source": [
    "## CNN Model\n",
    "\n",
    "In this first test, we will create our CNN model without our additional features "
   ]
  },
  {
   "cell_type": "code",
   "execution_count": 18,
   "metadata": {},
   "outputs": [
    {
     "name": "stdout",
     "output_type": "stream",
     "text": [
      "Model: \"sequential\"\n",
      "_________________________________________________________________\n",
      "Layer (type)                 Output Shape              Param #   \n",
      "=================================================================\n",
      "embedding (Embedding)        (None, 500, 100)          8379100   \n",
      "_________________________________________________________________\n",
      "conv1d (Conv1D)              (None, 498, 80)           24080     \n",
      "_________________________________________________________________\n",
      "max_pooling1d (MaxPooling1D) (None, 249, 80)           0         \n",
      "_________________________________________________________________\n",
      "dropout (Dropout)            (None, 249, 80)           0         \n",
      "_________________________________________________________________\n",
      "flatten (Flatten)            (None, 19920)             0         \n",
      "_________________________________________________________________\n",
      "dense (Dense)                (None, 150)               2988150   \n",
      "_________________________________________________________________\n",
      "dropout_1 (Dropout)          (None, 150)               0         \n",
      "_________________________________________________________________\n",
      "dense_1 (Dense)              (None, 10)                1510      \n",
      "_________________________________________________________________\n",
      "dropout_2 (Dropout)          (None, 10)                0         \n",
      "_________________________________________________________________\n",
      "dense_2 (Dense)              (None, 1)                 11        \n",
      "=================================================================\n",
      "Total params: 11,392,851\n",
      "Trainable params: 11,392,851\n",
      "Non-trainable params: 0\n",
      "_________________________________________________________________\n",
      "None\n"
     ]
    }
   ],
   "source": [
    "model = Sequential()\n",
    "model.add(Embedding(vocab_size+1, 100, input_length=500))\n",
    "\n",
    "model.add(Conv1D(filters=80, kernel_size=3, activation='relu'))\n",
    "model.add(MaxPooling1D(pool_size=2))\n",
    "model.add(Dropout(0.2))\n",
    "\n",
    "model.add(Flatten())\n",
    "\n",
    "model.add(Dense(150,activation = \"relu\"))\n",
    "model.add(Dropout(0.2))\n",
    "\n",
    "model.add(Dense(10))\n",
    "model.add(Dropout(0.2))\n",
    "\n",
    "model.add(Dense(1, activation='sigmoid'))\n",
    "print(model.summary())"
   ]
  },
  {
   "cell_type": "code",
   "execution_count": 19,
   "metadata": {},
   "outputs": [
    {
     "name": "stdout",
     "output_type": "stream",
     "text": [
      "Model: \"sequential\"\n",
      "_________________________________________________________________\n",
      "Layer (type)                 Output Shape              Param #   \n",
      "=================================================================\n",
      "embedding (Embedding)        (None, 500, 100)          8379100   \n",
      "_________________________________________________________________\n",
      "conv1d (Conv1D)              (None, 498, 80)           24080     \n",
      "_________________________________________________________________\n",
      "max_pooling1d (MaxPooling1D) (None, 249, 80)           0         \n",
      "_________________________________________________________________\n",
      "dropout (Dropout)            (None, 249, 80)           0         \n",
      "_________________________________________________________________\n",
      "flatten (Flatten)            (None, 19920)             0         \n",
      "_________________________________________________________________\n",
      "dense (Dense)                (None, 150)               2988150   \n",
      "_________________________________________________________________\n",
      "dropout_1 (Dropout)          (None, 150)               0         \n",
      "_________________________________________________________________\n",
      "dense_1 (Dense)              (None, 10)                1510      \n",
      "_________________________________________________________________\n",
      "dropout_2 (Dropout)          (None, 10)                0         \n",
      "_________________________________________________________________\n",
      "dense_2 (Dense)              (None, 1)                 11        \n",
      "=================================================================\n",
      "Total params: 11,392,851\n",
      "Trainable params: 11,392,851\n",
      "Non-trainable params: 0\n",
      "_________________________________________________________________\n"
     ]
    }
   ],
   "source": [
    "model.compile(k.optimizers.Adam(lr=0.0005), loss='binary_crossentropy', metrics=['accuracy'])\n",
    "#model.compile(k.optimizers.SGD(lr=0.1, momentum = 0.1), loss='binary_crossentropy', metrics=['accuracy'])\n",
    "#model.compile(k.optimizers.RMSprop(), loss='binary_crossentropy', metrics=['accuracy'])\n",
    "model.summary()"
   ]
  },
  {
   "cell_type": "code",
   "execution_count": 20,
   "metadata": {},
   "outputs": [
    {
     "name": "stdout",
     "output_type": "stream",
     "text": [
      "Epoch 1/20\n",
      "38/38 [==============================] - 11s 296ms/step - loss: 0.6757 - accuracy: 0.5928 - val_loss: 0.6662 - val_accuracy: 0.6072\n",
      "Epoch 2/20\n",
      "38/38 [==============================] - 11s 287ms/step - loss: 0.6249 - accuracy: 0.6424 - val_loss: 0.6410 - val_accuracy: 0.6663\n",
      "Epoch 3/20\n",
      "38/38 [==============================] - 11s 292ms/step - loss: 0.4276 - accuracy: 0.8348 - val_loss: 0.5218 - val_accuracy: 0.7656\n",
      "Epoch 4/20\n",
      "38/38 [==============================] - 11s 283ms/step - loss: 0.1594 - accuracy: 0.9516 - val_loss: 0.4978 - val_accuracy: 0.7846\n",
      "Epoch 5/20\n",
      "38/38 [==============================] - 11s 283ms/step - loss: 0.0525 - accuracy: 0.9921 - val_loss: 0.5967 - val_accuracy: 0.7804\n",
      "Epoch 6/20\n",
      "38/38 [==============================] - 12s 305ms/step - loss: 0.0279 - accuracy: 0.9966 - val_loss: 0.6522 - val_accuracy: 0.7656\n"
     ]
    }
   ],
   "source": [
    "history = model.fit(x_train, y_train, epochs=20, batch_size=100, validation_data=(x_test, y_test),callbacks = [k.callbacks.EarlyStopping(monitor='val_accuracy', patience=2, min_delta = 0.01)])"
   ]
  },
  {
   "cell_type": "code",
   "execution_count": 21,
   "metadata": {},
   "outputs": [
    {
     "data": {
      "text/plain": [
       "<matplotlib.legend.Legend at 0x7fc25e5af670>"
      ]
     },
     "execution_count": 21,
     "metadata": {},
     "output_type": "execute_result"
    },
    {
     "data": {
      "image/png": "[encoded data removed]",
      "text/plain": [
       "<Figure size 1152x432 with 1 Axes>"
      ]
     },
     "metadata": {
      "needs_background": "light"
     },
     "output_type": "display_data"
    }
   ],
   "source": [
    "plt.figure(figsize=(16,6))\n",
    "plt.plot(history.history['val_accuracy'], label='test_acc')\n",
    "plt.plot(history.history['accuracy'], label='train_acc')\n",
    "plt.legend()"
   ]
  },
  {
   "cell_type": "code",
   "execution_count": 22,
   "metadata": {},
   "outputs": [
    {
     "data": {
      "text/plain": [
       "<matplotlib.legend.Legend at 0x7fc25e726670>"
      ]
     },
     "execution_count": 22,
     "metadata": {},
     "output_type": "execute_result"
    },
    {
     "data": {
      "image/png": "[encoded data removed]",
      "text/plain": [
       "<Figure size 1152x432 with 1 Axes>"
      ]
     },
     "metadata": {
      "needs_background": "light"
     },
     "output_type": "display_data"
    }
   ],
   "source": [
    "plt.figure(figsize=(16,6))\n",
    "plt.plot(history.history['val_loss'], label='test_loss')\n",
    "plt.plot(history.history['loss'], label='train_loss')\n",
    "plt.legend()"
   ]
  },
  {
   "cell_type": "code",
   "execution_count": 23,
   "metadata": {},
   "outputs": [
    {
     "data": {
      "text/plain": [
       "0.7655755015839493"
      ]
     },
     "execution_count": 23,
     "metadata": {},
     "output_type": "execute_result"
    }
   ],
   "source": [
    "test_pred = model.predict(x_test)\n",
    "accuracy_score(y_test, test_pred.round())"
   ]
  },
  {
   "cell_type": "code",
   "execution_count": 24,
   "metadata": {},
   "outputs": [
    {
     "name": "stdout",
     "output_type": "stream",
     "text": [
      "              precision    recall  f1-score   support\n",
      "\n",
      "           0       0.82      0.78      0.80       575\n",
      "           1       0.69      0.74      0.71       372\n",
      "\n",
      "    accuracy                           0.77       947\n",
      "   macro avg       0.76      0.76      0.76       947\n",
      "weighted avg       0.77      0.77      0.77       947\n",
      "\n"
     ]
    }
   ],
   "source": [
    "report = classification_report(np.array(y_test.tolist()), test_pred.round())\n",
    "print(report)"
   ]
  },
  {
   "cell_type": "code",
   "execution_count": 25,
   "metadata": {},
   "outputs": [
    {
     "name": "stdout",
     "output_type": "stream",
     "text": [
      "[[450 125]\n",
      " [ 97 275]]\n"
     ]
    },
    {
     "data": {
      "text/plain": [
       "<matplotlib.axes._subplots.AxesSubplot at 0x7fc25e7cc730>"
      ]
     },
     "execution_count": 25,
     "metadata": {},
     "output_type": "execute_result"
    },
    {
     "data": {
      "image/png": "[encoded data removed]",
      "text/plain": [
       "<Figure size 432x288 with 2 Axes>"
      ]
     },
     "metadata": {
      "needs_background": "light"
     },
     "output_type": "display_data"
    }
   ],
   "source": [
    "matrix = confusion_matrix(y_test, test_pred.round())\n",
    "print(matrix)\n",
    "\n",
    "#Plot\n",
    "df_cm = pd.DataFrame(matrix, columns=['real','fake'], index=['real', 'fake'])\n",
    "sns.heatmap(df_cm, annot=True)"
   ]
  },
  {
   "cell_type": "code",
   "execution_count": 26,
   "metadata": {},
   "outputs": [
    {
     "data": {
      "text/plain": [
       "[<matplotlib.lines.Line2D at 0x7fc260ecae80>]"
      ]
     },
     "execution_count": 26,
     "metadata": {},
     "output_type": "execute_result"
    },
    {
     "data": {
      "image/png": "[encoded data removed]",
      "text/plain": [
       "<Figure size 432x288 with 1 Axes>"
      ]
     },
     "metadata": {
      "needs_background": "light"
     },
     "output_type": "display_data"
    }
   ],
   "source": [
    "fpr, tpr, thresholds = metrics.roc_curve(y_test, test_pred)\n",
    "auc = metrics.roc_auc_score(y_test, test_pred)\n",
    "\n",
    "fig,ax = plt.subplots()\n",
    "ax.set_title('AUC={}'.format(auc))\n",
    "fig.suptitle('Roc curve')\n",
    "ax.plot(fpr,tpr)"
   ]
  },
  {
   "cell_type": "code",
   "execution_count": 27,
   "metadata": {},
   "outputs": [
    {
     "name": "stderr",
     "output_type": "stream",
     "text": [
      "<ipython-input-27-9c799c06e6f7>:8: SettingWithCopyWarning: \n",
      "A value is trying to be set on a copy of a slice from a DataFrame\n",
      "\n",
      "See the caveats in the documentation: https://pandas.pydata.org/pandas-docs/stable/user_guide/indexing.html#returning-a-view-versus-a-copy\n",
      "  test1.label[i] = 1\n",
      "<ipython-input-27-9c799c06e6f7>:6: SettingWithCopyWarning: \n",
      "A value is trying to be set on a copy of a slice from a DataFrame\n",
      "\n",
      "See the caveats in the documentation: https://pandas.pydata.org/pandas-docs/stable/user_guide/indexing.html#returning-a-view-versus-a-copy\n",
      "  test1.label[i] = 0\n"
     ]
    }
   ],
   "source": [
    "test_pred1 = model.predict(padded_test)\n",
    "test1 = test.copy()\n",
    "test1[\"label\"] = test_pred1\n",
    "for i in range(len(test1)):\n",
    "    if test1.label[i] <0.5:\n",
    "        test1.label[i] = 0 \n",
    "    else:\n",
    "        test1.label[i] = 1"
   ]
  },
  {
   "cell_type": "markdown",
   "metadata": {},
   "source": [
    "## CNN Model with additional latent features"
   ]
  },
  {
   "cell_type": "code",
   "execution_count": 28,
   "metadata": {},
   "outputs": [],
   "source": [
    "## two shapes of inputs\n",
    "input_1 = Input(shape=(500,))\n",
    "input_2 = Input(shape=(6,))\n",
    "\n",
    "##Text layer\n",
    "embedding_layer = Embedding(vocab_size+1, 100, weights=[embeddings_matrix])(input_1)\n",
    "conv1_layer1 = Conv1D(filters=32, kernel_size=3, activation='relu')(embedding_layer)\n",
    "pool_layer1 = MaxPooling1D(pool_size=4)(conv1_layer1)\n",
    "\n",
    "conv1_layer2 = Conv1D(filters=64, kernel_size=3, activation='relu')(pool_layer1)\n",
    "pool_layer2 = MaxPooling1D(pool_size=4)(conv1_layer2)\n",
    "\n",
    "conv1_layer3 = Conv1D(filters=128, kernel_size=3, activation='relu')(pool_layer2)\n",
    "pool_layer3 = MaxPooling1D(pool_size=4)(conv1_layer3)\n",
    "\n",
    "flat_layer = Flatten()(pool_layer3)\n",
    "\n",
    "## Latent Features Layer\n",
    "dense_layer_1 = Dense(10, activation='relu')(input_2)\n",
    "dense_layer_2 = Dense(10, activation='relu')(dense_layer_1)\n",
    "\n",
    "#Combining layers\n",
    "concat_layer = Concatenate()([flat_layer, dense_layer_2])\n",
    "dense_layer_3 = Dense(128, activation='relu')(concat_layer)\n",
    "\n",
    "dense_layer_4 = Dense(10, activation='relu')(dense_layer_3)\n",
    "\n",
    "output = Dense(1, activation='sigmoid')(dense_layer_4)\n",
    "model = Model(inputs=[input_1, input_2], outputs=output)\n"
   ]
  },
  {
   "cell_type": "code",
   "execution_count": 29,
   "metadata": {},
   "outputs": [
    {
     "name": "stdout",
     "output_type": "stream",
     "text": [
      "Model: \"functional_1\"\n",
      "__________________________________________________________________________________________________\n",
      "Layer (type)                    Output Shape         Param #     Connected to                     \n",
      "==================================================================================================\n",
      "input_1 (InputLayer)            [(None, 500)]        0                                            \n",
      "__________________________________________________________________________________________________\n",
      "embedding_1 (Embedding)         (None, 500, 100)     8379100     input_1[0][0]                    \n",
      "__________________________________________________________________________________________________\n",
      "conv1d_1 (Conv1D)               (None, 498, 32)      9632        embedding_1[0][0]                \n",
      "__________________________________________________________________________________________________\n",
      "max_pooling1d_1 (MaxPooling1D)  (None, 124, 32)      0           conv1d_1[0][0]                   \n",
      "__________________________________________________________________________________________________\n",
      "conv1d_2 (Conv1D)               (None, 122, 64)      6208        max_pooling1d_1[0][0]            \n",
      "__________________________________________________________________________________________________\n",
      "max_pooling1d_2 (MaxPooling1D)  (None, 30, 64)       0           conv1d_2[0][0]                   \n",
      "__________________________________________________________________________________________________\n",
      "conv1d_3 (Conv1D)               (None, 28, 128)      24704       max_pooling1d_2[0][0]            \n",
      "__________________________________________________________________________________________________\n",
      "input_2 (InputLayer)            [(None, 6)]          0                                            \n",
      "__________________________________________________________________________________________________\n",
      "max_pooling1d_3 (MaxPooling1D)  (None, 7, 128)       0           conv1d_3[0][0]                   \n",
      "__________________________________________________________________________________________________\n",
      "dense_3 (Dense)                 (None, 10)           70          input_2[0][0]                    \n",
      "__________________________________________________________________________________________________\n",
      "flatten_1 (Flatten)             (None, 896)          0           max_pooling1d_3[0][0]            \n",
      "__________________________________________________________________________________________________\n",
      "dense_4 (Dense)                 (None, 10)           110         dense_3[0][0]                    \n",
      "__________________________________________________________________________________________________\n",
      "concatenate (Concatenate)       (None, 906)          0           flatten_1[0][0]                  \n",
      "                                                                 dense_4[0][0]                    \n",
      "__________________________________________________________________________________________________\n",
      "dense_5 (Dense)                 (None, 128)          116096      concatenate[0][0]                \n",
      "__________________________________________________________________________________________________\n",
      "dense_6 (Dense)                 (None, 10)           1290        dense_5[0][0]                    \n",
      "__________________________________________________________________________________________________\n",
      "dense_7 (Dense)                 (None, 1)            11          dense_6[0][0]                    \n",
      "==================================================================================================\n",
      "Total params: 8,537,221\n",
      "Trainable params: 8,537,221\n",
      "Non-trainable params: 0\n",
      "__________________________________________________________________________________________________\n"
     ]
    }
   ],
   "source": [
    "model.compile(k.optimizers.Adam(lr=0.0001), loss='binary_crossentropy', metrics=['accuracy'])\n",
    "#model.compile(k.optimizers.SGD(lr=0.1, momentum = 0.1), loss='binary_crossentropy', metrics=['accuracy'])\n",
    "#model.compile(k.optimizers.RMSprop(), loss='binary_crossentropy', metrics=['accuracy'])\n",
    "model.summary()"
   ]
  },
  {
   "cell_type": "code",
   "execution_count": 30,
   "metadata": {},
   "outputs": [
    {
     "name": "stdout",
     "output_type": "stream",
     "text": [
      "Epoch 1/30\n",
      "38/38 [==============================] - 10s 270ms/step - loss: 0.6737 - accuracy: 0.6054 - val_loss: 0.6677 - val_accuracy: 0.6082\n",
      "Epoch 2/30\n",
      "38/38 [==============================] - 10s 259ms/step - loss: 0.6591 - accuracy: 0.6113 - val_loss: 0.6652 - val_accuracy: 0.6199\n",
      "Epoch 3/30\n",
      "38/38 [==============================] - 9s 239ms/step - loss: 0.6481 - accuracy: 0.6316 - val_loss: 0.6547 - val_accuracy: 0.6283\n",
      "Epoch 4/30\n",
      "38/38 [==============================] - 8s 220ms/step - loss: 0.6360 - accuracy: 0.6525 - val_loss: 0.6489 - val_accuracy: 0.6315\n",
      "Epoch 5/30\n",
      "38/38 [==============================] - 8s 219ms/step - loss: 0.6215 - accuracy: 0.6609 - val_loss: 0.6437 - val_accuracy: 0.6251\n",
      "Epoch 6/30\n",
      "38/38 [==============================] - 9s 239ms/step - loss: 0.6099 - accuracy: 0.6697 - val_loss: 0.6471 - val_accuracy: 0.6251\n",
      "Epoch 7/30\n",
      "38/38 [==============================] - 9s 225ms/step - loss: 0.5894 - accuracy: 0.6934 - val_loss: 0.6222 - val_accuracy: 0.6536\n",
      "Epoch 8/30\n",
      "38/38 [==============================] - 8s 220ms/step - loss: 0.5635 - accuracy: 0.7302 - val_loss: 0.6216 - val_accuracy: 0.6589\n",
      "Epoch 9/30\n",
      "38/38 [==============================] - 9s 227ms/step - loss: 0.5415 - accuracy: 0.7437 - val_loss: 0.6265 - val_accuracy: 0.6452\n",
      "Epoch 10/30\n",
      "38/38 [==============================] - 9s 246ms/step - loss: 0.5238 - accuracy: 0.7492 - val_loss: 0.6062 - val_accuracy: 0.6695\n",
      "Epoch 11/30\n",
      "38/38 [==============================] - 10s 251ms/step - loss: 0.4919 - accuracy: 0.7857 - val_loss: 0.6094 - val_accuracy: 0.6589\n",
      "Epoch 12/30\n",
      "38/38 [==============================] - 10s 256ms/step - loss: 0.4626 - accuracy: 0.7965 - val_loss: 0.5858 - val_accuracy: 0.6790\n",
      "Epoch 13/30\n",
      "38/38 [==============================] - 9s 230ms/step - loss: 0.4286 - accuracy: 0.8195 - val_loss: 0.5801 - val_accuracy: 0.6906\n",
      "Epoch 14/30\n",
      "38/38 [==============================] - 8s 216ms/step - loss: 0.4023 - accuracy: 0.8332 - val_loss: 0.5791 - val_accuracy: 0.7001\n",
      "Epoch 15/30\n",
      "38/38 [==============================] - 8s 217ms/step - loss: 0.3649 - accuracy: 0.8565 - val_loss: 0.5752 - val_accuracy: 0.7033\n",
      "Epoch 16/30\n",
      "38/38 [==============================] - 8s 222ms/step - loss: 0.3291 - accuracy: 0.8837 - val_loss: 0.5902 - val_accuracy: 0.7149\n",
      "Epoch 17/30\n",
      "38/38 [==============================] - 8s 220ms/step - loss: 0.2998 - accuracy: 0.8932 - val_loss: 0.5852 - val_accuracy: 0.7001\n",
      "Epoch 18/30\n",
      "38/38 [==============================] - 8s 214ms/step - loss: 0.2687 - accuracy: 0.9149 - val_loss: 0.6008 - val_accuracy: 0.7138\n",
      "Epoch 19/30\n",
      "38/38 [==============================] - 8s 222ms/step - loss: 0.2422 - accuracy: 0.9244 - val_loss: 0.6088 - val_accuracy: 0.7149\n",
      "Epoch 20/30\n",
      "38/38 [==============================] - 8s 215ms/step - loss: 0.2192 - accuracy: 0.9376 - val_loss: 0.6215 - val_accuracy: 0.6969\n",
      "Epoch 21/30\n",
      "38/38 [==============================] - 8s 215ms/step - loss: 0.1871 - accuracy: 0.9564 - val_loss: 0.6121 - val_accuracy: 0.6959\n"
     ]
    }
   ],
   "source": [
    "history = model.fit([x_train,new_train], y_train, epochs=30, batch_size=100, validation_data=([x_test,new_test], y_test),callbacks = [k.callbacks.EarlyStopping(monitor='val_accuracy', patience=5, min_delta = 0.01)])"
   ]
  },
  {
   "cell_type": "code",
   "execution_count": 31,
   "metadata": {},
   "outputs": [
    {
     "data": {
      "text/plain": [
       "<matplotlib.legend.Legend at 0x7fc24e6e70d0>"
      ]
     },
     "execution_count": 31,
     "metadata": {},
     "output_type": "execute_result"
    },
    {
     "data": {
      "image/png": "[encoded data removed]",
      "text/plain": [
       "<Figure size 1152x432 with 1 Axes>"
      ]
     },
     "metadata": {
      "needs_background": "light"
     },
     "output_type": "display_data"
    }
   ],
   "source": [
    "plt.figure(figsize=(16,6))\n",
    "plt.plot(history.history['val_accuracy'], label='test_acc')\n",
    "plt.plot(history.history['accuracy'], label='train_acc')\n",
    "plt.legend()"
   ]
  },
  {
   "cell_type": "code",
   "execution_count": 32,
   "metadata": {},
   "outputs": [
    {
     "data": {
      "text/plain": [
       "<matplotlib.legend.Legend at 0x7fc24e78de20>"
      ]
     },
     "execution_count": 32,
     "metadata": {},
     "output_type": "execute_result"
    },
    {
     "data": {
      "image/png": "[encoded data removed]",
      "text/plain": [
       "<Figure size 1152x432 with 1 Axes>"
      ]
     },
     "metadata": {
      "needs_background": "light"
     },
     "output_type": "display_data"
    }
   ],
   "source": [
    "plt.figure(figsize=(16,6))\n",
    "plt.plot(history.history['val_loss'], label='test_loss')\n",
    "plt.plot(history.history['loss'], label='train_loss')\n",
    "plt.legend()"
   ]
  },
  {
   "cell_type": "code",
   "execution_count": 33,
   "metadata": {},
   "outputs": [
    {
     "data": {
      "text/plain": [
       "0.6958817317845829"
      ]
     },
     "execution_count": 33,
     "metadata": {},
     "output_type": "execute_result"
    }
   ],
   "source": [
    "test_pred = model.predict([x_test,new_test])\n",
    "accuracy_score(y_test, test_pred.round())"
   ]
  },
  {
   "cell_type": "code",
   "execution_count": 34,
   "metadata": {},
   "outputs": [
    {
     "name": "stdout",
     "output_type": "stream",
     "text": [
      "              precision    recall  f1-score   support\n",
      "\n",
      "           0       0.75      0.75      0.75       575\n",
      "           1       0.61      0.61      0.61       372\n",
      "\n",
      "    accuracy                           0.70       947\n",
      "   macro avg       0.68      0.68      0.68       947\n",
      "weighted avg       0.70      0.70      0.70       947\n",
      "\n"
     ]
    }
   ],
   "source": [
    "report = classification_report(np.array(y_test.tolist()), test_pred.round())\n",
    "print(report)"
   ]
  },
  {
   "cell_type": "code",
   "execution_count": 35,
   "metadata": {},
   "outputs": [
    {
     "name": "stdout",
     "output_type": "stream",
     "text": [
      "[[432 143]\n",
      " [145 227]]\n"
     ]
    },
    {
     "data": {
      "text/plain": [
       "<matplotlib.axes._subplots.AxesSubplot at 0x7fc24e5c4430>"
      ]
     },
     "execution_count": 35,
     "metadata": {},
     "output_type": "execute_result"
    },
    {
     "data": {
      "image/png": "[encoded data removed]",
      "text/plain": [
       "<Figure size 432x288 with 2 Axes>"
      ]
     },
     "metadata": {
      "needs_background": "light"
     },
     "output_type": "display_data"
    }
   ],
   "source": [
    "matrix = confusion_matrix(y_test, test_pred.round())\n",
    "print(matrix)\n",
    "\n",
    "#Plot\n",
    "df_cm = pd.DataFrame(matrix, columns=['real','fake'], index=['real', 'fake'])\n",
    "sns.heatmap(df_cm, annot=True)"
   ]
  },
  {
   "cell_type": "code",
   "execution_count": 36,
   "metadata": {},
   "outputs": [
    {
     "data": {
      "text/plain": [
       "[<matplotlib.lines.Line2D at 0x7fc24e475940>]"
      ]
     },
     "execution_count": 36,
     "metadata": {},
     "output_type": "execute_result"
    },
    {
     "data": {
      "image/png": "[encoded data removed]",
      "text/plain": [
       "<Figure size 432x288 with 1 Axes>"
      ]
     },
     "metadata": {
      "needs_background": "light"
     },
     "output_type": "display_data"
    }
   ],
   "source": [
    "fpr, tpr, thresholds = metrics.roc_curve(y_test, test_pred)\n",
    "auc = metrics.roc_auc_score(y_test, test_pred)\n",
    "\n",
    "fig,ax = plt.subplots()\n",
    "ax.set_title('AUC={}'.format(auc))\n",
    "fig.suptitle('Roc curve')\n",
    "ax.plot(fpr,tpr)"
   ]
  },
  {
   "cell_type": "code",
   "execution_count": 38,
   "metadata": {},
   "outputs": [
    {
     "name": "stderr",
     "output_type": "stream",
     "text": [
      "<ipython-input-38-fef08fdb7f6e>:6: SettingWithCopyWarning: \n",
      "A value is trying to be set on a copy of a slice from a DataFrame\n",
      "\n",
      "See the caveats in the documentation: https://pandas.pydata.org/pandas-docs/stable/user_guide/indexing.html#returning-a-view-versus-a-copy\n",
      "  test2.label[i] = 0\n",
      "<ipython-input-38-fef08fdb7f6e>:8: SettingWithCopyWarning: \n",
      "A value is trying to be set on a copy of a slice from a DataFrame\n",
      "\n",
      "See the caveats in the documentation: https://pandas.pydata.org/pandas-docs/stable/user_guide/indexing.html#returning-a-view-versus-a-copy\n",
      "  test2.label[i] = 1\n"
     ]
    }
   ],
   "source": [
    "test_pred2 = model.predict([padded_test,latent_test])\n",
    "test2 = test.copy()\n",
    "test2[\"label\"] = test_pred2\n",
    "for i in range(len(test2)):\n",
    "    if test2.label[i] <0.5:\n",
    "        test2.label[i] = 0 \n",
    "    else:\n",
    "        test2.label[i] = 1"
   ]
  },
  {
   "cell_type": "markdown",
   "metadata": {},
   "source": [
    "## CNN-GRU Model"
   ]
  },
  {
   "cell_type": "code",
   "execution_count": 39,
   "metadata": {},
   "outputs": [
    {
     "name": "stdout",
     "output_type": "stream",
     "text": [
      "Model: \"sequential_1\"\n",
      "_________________________________________________________________\n",
      "Layer (type)                 Output Shape              Param #   \n",
      "=================================================================\n",
      "embedding_2 (Embedding)      (None, 500, 100)          8379100   \n",
      "_________________________________________________________________\n",
      "conv1d_4 (Conv1D)            (None, 500, 32)           9632      \n",
      "_________________________________________________________________\n",
      "max_pooling1d_4 (MaxPooling1 (None, 250, 32)           0         \n",
      "_________________________________________________________________\n",
      "dropout_3 (Dropout)          (None, 250, 32)           0         \n",
      "_________________________________________________________________\n",
      "conv1d_5 (Conv1D)            (None, 250, 64)           6208      \n",
      "_________________________________________________________________\n",
      "max_pooling1d_5 (MaxPooling1 (None, 125, 64)           0         \n",
      "_________________________________________________________________\n",
      "dropout_4 (Dropout)          (None, 125, 64)           0         \n",
      "_________________________________________________________________\n",
      "conv1d_6 (Conv1D)            (None, 125, 128)          24704     \n",
      "_________________________________________________________________\n",
      "max_pooling1d_6 (MaxPooling1 (None, 62, 128)           0         \n",
      "_________________________________________________________________\n",
      "dropout_5 (Dropout)          (None, 62, 128)           0         \n",
      "_________________________________________________________________\n",
      "gru (GRU)                    (None, 62, 50)            27000     \n",
      "_________________________________________________________________\n",
      "dropout_6 (Dropout)          (None, 62, 50)            0         \n",
      "_________________________________________________________________\n",
      "flatten_2 (Flatten)          (None, 3100)              0         \n",
      "_________________________________________________________________\n",
      "dense_8 (Dense)              (None, 128)               396928    \n",
      "_________________________________________________________________\n",
      "dropout_7 (Dropout)          (None, 128)               0         \n",
      "_________________________________________________________________\n",
      "dense_9 (Dense)              (None, 1)                 129       \n",
      "=================================================================\n",
      "Total params: 8,843,701\n",
      "Trainable params: 8,843,701\n",
      "Non-trainable params: 0\n",
      "_________________________________________________________________\n",
      "None\n"
     ]
    }
   ],
   "source": [
    "model = Sequential()\n",
    "model.add(Embedding(vocab_size+1, 100, input_length=500))\n",
    "model.add(Conv1D(32,kernel_size=3,padding='same',activation='relu'))\n",
    "model.add(MaxPooling1D(pool_size=2))\n",
    "model.add(Dropout(0.3))\n",
    "model.add(Conv1D(64,kernel_size=3,padding='same',activation='relu'))\n",
    "model.add(MaxPooling1D(pool_size=2))\n",
    "model.add(Dropout(0.35))\n",
    "model.add(Conv1D(128,kernel_size=3,padding='same',activation='relu'))\n",
    "model.add(MaxPooling1D(pool_size=2))\n",
    "model.add(Dropout(0.4))\n",
    "model.add(GRU(50,return_sequences=True))\n",
    "model.add(Dropout(0.25))\n",
    "model.add(Flatten())\n",
    "model.add(Dense(128,activation='relu'))\n",
    "model.add(Dropout(0.45))\n",
    "model.add(Dense(1, activation='sigmoid'))\n",
    "print(model.summary())"
   ]
  },
  {
   "cell_type": "code",
   "execution_count": 40,
   "metadata": {},
   "outputs": [
    {
     "name": "stdout",
     "output_type": "stream",
     "text": [
      "Model: \"sequential_1\"\n",
      "_________________________________________________________________\n",
      "Layer (type)                 Output Shape              Param #   \n",
      "=================================================================\n",
      "embedding_2 (Embedding)      (None, 500, 100)          8379100   \n",
      "_________________________________________________________________\n",
      "conv1d_4 (Conv1D)            (None, 500, 32)           9632      \n",
      "_________________________________________________________________\n",
      "max_pooling1d_4 (MaxPooling1 (None, 250, 32)           0         \n",
      "_________________________________________________________________\n",
      "dropout_3 (Dropout)          (None, 250, 32)           0         \n",
      "_________________________________________________________________\n",
      "conv1d_5 (Conv1D)            (None, 250, 64)           6208      \n",
      "_________________________________________________________________\n",
      "max_pooling1d_5 (MaxPooling1 (None, 125, 64)           0         \n",
      "_________________________________________________________________\n",
      "dropout_4 (Dropout)          (None, 125, 64)           0         \n",
      "_________________________________________________________________\n",
      "conv1d_6 (Conv1D)            (None, 125, 128)          24704     \n",
      "_________________________________________________________________\n",
      "max_pooling1d_6 (MaxPooling1 (None, 62, 128)           0         \n",
      "_________________________________________________________________\n",
      "dropout_5 (Dropout)          (None, 62, 128)           0         \n",
      "_________________________________________________________________\n",
      "gru (GRU)                    (None, 62, 50)            27000     \n",
      "_________________________________________________________________\n",
      "dropout_6 (Dropout)          (None, 62, 50)            0         \n",
      "_________________________________________________________________\n",
      "flatten_2 (Flatten)          (None, 3100)              0         \n",
      "_________________________________________________________________\n",
      "dense_8 (Dense)              (None, 128)               396928    \n",
      "_________________________________________________________________\n",
      "dropout_7 (Dropout)          (None, 128)               0         \n",
      "_________________________________________________________________\n",
      "dense_9 (Dense)              (None, 1)                 129       \n",
      "=================================================================\n",
      "Total params: 8,843,701\n",
      "Trainable params: 8,843,701\n",
      "Non-trainable params: 0\n",
      "_________________________________________________________________\n"
     ]
    }
   ],
   "source": [
    "model.compile(loss='binary_crossentropy', optimizer=\"adam\", metrics=['accuracy'])\n",
    "model.summary()"
   ]
  },
  {
   "cell_type": "code",
   "execution_count": 41,
   "metadata": {},
   "outputs": [
    {
     "name": "stdout",
     "output_type": "stream",
     "text": [
      "Epoch 1/20\n",
      "38/38 [==============================] - 18s 482ms/step - loss: 0.6736 - accuracy: 0.6039 - val_loss: 0.6787 - val_accuracy: 0.6072\n",
      "Epoch 2/20\n",
      "38/38 [==============================] - 18s 485ms/step - loss: 0.6146 - accuracy: 0.6554 - val_loss: 0.5005 - val_accuracy: 0.7582\n",
      "Epoch 3/20\n",
      "38/38 [==============================] - 15s 399ms/step - loss: 0.3290 - accuracy: 0.8626 - val_loss: 0.5189 - val_accuracy: 0.7423\n",
      "Epoch 4/20\n",
      "38/38 [==============================] - 16s 430ms/step - loss: 0.0963 - accuracy: 0.9656 - val_loss: 0.7614 - val_accuracy: 0.7244\n"
     ]
    }
   ],
   "source": [
    "history = model.fit(x_train, y_train, epochs=20, batch_size=100, validation_data=(x_test, y_test),callbacks = [k.callbacks.EarlyStopping(monitor='val_accuracy', patience=2, min_delta = 0.01)])"
   ]
  },
  {
   "cell_type": "code",
   "execution_count": 42,
   "metadata": {},
   "outputs": [
    {
     "data": {
      "text/plain": [
       "<matplotlib.legend.Legend at 0x7fc23e750ca0>"
      ]
     },
     "execution_count": 42,
     "metadata": {},
     "output_type": "execute_result"
    },
    {
     "data": {
      "image/png": "[encoded data removed]",
      "text/plain": [
       "<Figure size 1152x432 with 1 Axes>"
      ]
     },
     "metadata": {
      "needs_background": "light"
     },
     "output_type": "display_data"
    }
   ],
   "source": [
    "plt.figure(figsize=(16,6))\n",
    "plt.plot(history.history['val_accuracy'], label='test_acc')\n",
    "plt.plot(history.history['accuracy'], label='train_acc')\n",
    "plt.legend()"
   ]
  },
  {
   "cell_type": "code",
   "execution_count": 43,
   "metadata": {},
   "outputs": [
    {
     "data": {
      "text/plain": [
       "<matplotlib.legend.Legend at 0x7fc23e5ffc10>"
      ]
     },
     "execution_count": 43,
     "metadata": {},
     "output_type": "execute_result"
    },
    {
     "data": {
      "image/png": "[encoded data removed]",
      "text/plain": [
       "<Figure size 1152x432 with 1 Axes>"
      ]
     },
     "metadata": {
      "needs_background": "light"
     },
     "output_type": "display_data"
    }
   ],
   "source": [
    "plt.figure(figsize=(16,6))\n",
    "plt.plot(history.history['val_loss'], label='test_loss')\n",
    "plt.plot(history.history['loss'], label='train_loss')\n",
    "plt.legend()"
   ]
  },
  {
   "cell_type": "code",
   "execution_count": 44,
   "metadata": {},
   "outputs": [
    {
     "data": {
      "text/plain": [
       "0.7243928194297783"
      ]
     },
     "execution_count": 44,
     "metadata": {},
     "output_type": "execute_result"
    }
   ],
   "source": [
    "test_pred = model.predict(x_test)\n",
    "accuracy_score(y_test, test_pred.round())"
   ]
  },
  {
   "cell_type": "code",
   "execution_count": 45,
   "metadata": {},
   "outputs": [
    {
     "name": "stdout",
     "output_type": "stream",
     "text": [
      "              precision    recall  f1-score   support\n",
      "\n",
      "           0       0.74      0.84      0.79       575\n",
      "           1       0.69      0.55      0.61       372\n",
      "\n",
      "    accuracy                           0.72       947\n",
      "   macro avg       0.71      0.69      0.70       947\n",
      "weighted avg       0.72      0.72      0.72       947\n",
      "\n"
     ]
    }
   ],
   "source": [
    "report = classification_report(np.array(y_test.tolist()), test_pred.round())\n",
    "print(report)"
   ]
  },
  {
   "cell_type": "code",
   "execution_count": 46,
   "metadata": {},
   "outputs": [
    {
     "name": "stdout",
     "output_type": "stream",
     "text": [
      "[[483  92]\n",
      " [169 203]]\n"
     ]
    },
    {
     "data": {
      "text/plain": [
       "<matplotlib.axes._subplots.AxesSubplot at 0x7fc23e95bb50>"
      ]
     },
     "execution_count": 46,
     "metadata": {},
     "output_type": "execute_result"
    },
    {
     "data": {
      "image/png": "[encoded data removed]",
      "text/plain": [
       "<Figure size 432x288 with 2 Axes>"
      ]
     },
     "metadata": {
      "needs_background": "light"
     },
     "output_type": "display_data"
    }
   ],
   "source": [
    "matrix = confusion_matrix(y_test, test_pred.round())\n",
    "print(matrix)\n",
    "\n",
    "#Plot\n",
    "df_cm = pd.DataFrame(matrix, columns=['real','fake'], index=['real', 'fake'])\n",
    "sns.heatmap(df_cm, annot=True)"
   ]
  },
  {
   "cell_type": "code",
   "execution_count": 47,
   "metadata": {},
   "outputs": [
    {
     "data": {
      "text/plain": [
       "[<matplotlib.lines.Line2D at 0x7fc23e816df0>]"
      ]
     },
     "execution_count": 47,
     "metadata": {},
     "output_type": "execute_result"
    },
    {
     "data": {
      "image/png": "[encoded data removed]",
      "text/plain": [
       "<Figure size 432x288 with 1 Axes>"
      ]
     },
     "metadata": {
      "needs_background": "light"
     },
     "output_type": "display_data"
    }
   ],
   "source": [
    "fpr, tpr, thresholds = metrics.roc_curve(y_test, test_pred)\n",
    "auc = metrics.roc_auc_score(y_test, test_pred)\n",
    "\n",
    "fig,ax = plt.subplots()\n",
    "ax.set_title('AUC={}'.format(auc))\n",
    "fig.suptitle('Roc curve')\n",
    "ax.plot(fpr,tpr)"
   ]
  },
  {
   "cell_type": "code",
   "execution_count": 48,
   "metadata": {},
   "outputs": [
    {
     "ename": "NameError",
     "evalue": "name 'test3' is not defined",
     "output_type": "error",
     "traceback": [
      "\u001b[0;31m---------------------------------------------------------------------------\u001b[0m",
      "\u001b[0;31mNameError\u001b[0m                                 Traceback (most recent call last)",
      "\u001b[0;32m<ipython-input-48-4b0913afe90d>\u001b[0m in \u001b[0;36m<module>\u001b[0;34m\u001b[0m\n\u001b[1;32m      1\u001b[0m \u001b[0mtest_pred3\u001b[0m \u001b[0;34m=\u001b[0m \u001b[0mmodel\u001b[0m\u001b[0;34m.\u001b[0m\u001b[0mpredict\u001b[0m\u001b[0;34m(\u001b[0m\u001b[0mpadded_test\u001b[0m\u001b[0;34m)\u001b[0m\u001b[0;34m\u001b[0m\u001b[0;34m\u001b[0m\u001b[0m\n\u001b[0;32m----> 2\u001b[0;31m \u001b[0mtest3\u001b[0m\u001b[0;34m[\u001b[0m\u001b[0;34m\"label\"\u001b[0m\u001b[0;34m]\u001b[0m \u001b[0;34m=\u001b[0m \u001b[0mtest_pred3\u001b[0m\u001b[0;34m\u001b[0m\u001b[0;34m\u001b[0m\u001b[0m\n\u001b[0m\u001b[1;32m      3\u001b[0m \u001b[0;32mfor\u001b[0m \u001b[0mi\u001b[0m \u001b[0;32min\u001b[0m \u001b[0mrange\u001b[0m\u001b[0;34m(\u001b[0m\u001b[0mlen\u001b[0m\u001b[0;34m(\u001b[0m\u001b[0mtest3\u001b[0m\u001b[0;34m)\u001b[0m\u001b[0;34m)\u001b[0m\u001b[0;34m:\u001b[0m\u001b[0;34m\u001b[0m\u001b[0;34m\u001b[0m\u001b[0m\n\u001b[1;32m      4\u001b[0m     \u001b[0;32mif\u001b[0m \u001b[0mtest3\u001b[0m\u001b[0;34m.\u001b[0m\u001b[0mlabel\u001b[0m\u001b[0;34m[\u001b[0m\u001b[0mi\u001b[0m\u001b[0;34m]\u001b[0m \u001b[0;34m<\u001b[0m\u001b[0;36m0.5\u001b[0m\u001b[0;34m:\u001b[0m\u001b[0;34m\u001b[0m\u001b[0;34m\u001b[0m\u001b[0m\n\u001b[1;32m      5\u001b[0m         \u001b[0mtest3\u001b[0m\u001b[0;34m.\u001b[0m\u001b[0mlabel\u001b[0m\u001b[0;34m[\u001b[0m\u001b[0mi\u001b[0m\u001b[0;34m]\u001b[0m \u001b[0;34m=\u001b[0m \u001b[0;36m0\u001b[0m\u001b[0;34m\u001b[0m\u001b[0;34m\u001b[0m\u001b[0m\n",
      "\u001b[0;31mNameError\u001b[0m: name 'test3' is not defined"
     ]
    }
   ],
   "source": [
    "test_pred3 = model.predict(padded_test)\n",
    "test3[\"label\"] = test_pred3\n",
    "for i in range(len(test3)):\n",
    "    if test3.label[i] <0.5:\n",
    "        test3.label[i] = 0 \n",
    "    else:\n",
    "        test3.label[i] = 1"
   ]
  },
  {
   "cell_type": "markdown",
   "metadata": {},
   "source": [
    "## CNN-GRU Model with additional latent features"
   ]
  },
  {
   "cell_type": "code",
   "execution_count": null,
   "metadata": {},
   "outputs": [],
   "source": [
    "## two shapes of inputs\n",
    "input_1 = Input(shape=(500,))\n",
    "input_2 = Input(shape=(6,))\n",
    "\n",
    "##Text layer\n",
    "embedding_layer = Embedding(vocab_size+1, 100, weights=[embeddings_matrix])(input_1)\n",
    "conv1_layer1 = Conv1D(filters=32, kernel_size=3, activation='relu')(embedding_layer)\n",
    "pool_layer1 = MaxPooling1D(pool_size=4)(conv1_layer1)\n",
    "drop1 = Dropout(0.3)(pool_layer1)\n",
    "\n",
    "conv1_layer2 = Conv1D(filters=64, kernel_size=3, activation='relu')(drop1)\n",
    "pool_layer2 = MaxPooling1D(pool_size=4)(conv1_layer2)\n",
    "drop2 = Dropout(0.35)(pool_layer2)\n",
    "\n",
    "conv1_layer3 = Conv1D(filters=128, kernel_size=3, activation='relu')(drop2)\n",
    "pool_layer3 = MaxPooling1D(pool_size=4)(conv1_layer3)\n",
    "drop3 = Dropout(0.4)(pool_layer3)\n",
    "\n",
    "GRU1 = GRU(50,return_sequences=True)(drop3)\n",
    "drop4 = Dropout(0.25)(GRU1)\n",
    "\n",
    "flat_layer = Flatten()(drop4)\n",
    "\n",
    "## Latent Features Layer\n",
    "dense_layer_1 = Dense(10, activation='relu')(input_2)\n",
    "dense_layer_2 = Dense(10, activation='relu')(dense_layer_1)\n",
    "\n",
    "#Combining layers\n",
    "concat_layer = Concatenate()([flat_layer, dense_layer_2])\n",
    "dense_layer_3 = Dense(128, activation='relu')(concat_layer)\n",
    "\n",
    "dense_layer_4 = Dense(10, activation='relu')(dense_layer_3)\n",
    "\n",
    "output = Dense(1, activation='sigmoid')(dense_layer_4)\n",
    "model = Model(inputs=[input_1, input_2], outputs=output)\n"
   ]
  },
  {
   "cell_type": "code",
   "execution_count": null,
   "metadata": {},
   "outputs": [],
   "source": [
    "model.compile(k.optimizers.Adam(lr=0.001), loss='binary_crossentropy', metrics=['accuracy'])\n",
    "#model.compile(k.optimizers.SGD(lr=0.1, momentum = 0.1), loss='binary_crossentropy', metrics=['accuracy'])\n",
    "#model.compile(k.optimizers.RMSprop(), loss='binary_crossentropy', metrics=['accuracy'])\n",
    "model.summary()"
   ]
  },
  {
   "cell_type": "code",
   "execution_count": null,
   "metadata": {},
   "outputs": [],
   "source": [
    "history = model.fit([x_train,new_train], y_train, epochs=30, batch_size=100, validation_data=([x_test,new_test], y_test),callbacks = [k.callbacks.EarlyStopping(monitor='val_accuracy', patience=5, min_delta = 0.01)])"
   ]
  },
  {
   "cell_type": "code",
   "execution_count": null,
   "metadata": {},
   "outputs": [],
   "source": [
    "plt.figure(figsize=(16,6))\n",
    "plt.plot(history.history['val_accuracy'], label='test_acc')\n",
    "plt.plot(history.history['accuracy'], label='train_acc')\n",
    "plt.legend()"
   ]
  },
  {
   "cell_type": "code",
   "execution_count": null,
   "metadata": {},
   "outputs": [],
   "source": [
    "plt.figure(figsize=(16,6))\n",
    "plt.plot(history.history['val_loss'], label='test_loss')\n",
    "plt.plot(history.history['loss'], label='train_loss')\n",
    "plt.legend()"
   ]
  },
  {
   "cell_type": "code",
   "execution_count": null,
   "metadata": {},
   "outputs": [],
   "source": [
    "test_pred = model.predict([x_test,new_test])\n",
    "accuracy_score(y_test, test_pred.round())"
   ]
  },
  {
   "cell_type": "code",
   "execution_count": null,
   "metadata": {},
   "outputs": [],
   "source": [
    "report = classification_report(np.array(y_test.tolist()), test_pred.round())\n",
    "print(report)"
   ]
  },
  {
   "cell_type": "code",
   "execution_count": null,
   "metadata": {},
   "outputs": [],
   "source": [
    "matrix = confusion_matrix(y_test, test_pred.round())\n",
    "print(matrix)\n",
    "\n",
    "#Plot\n",
    "df_cm = pd.DataFrame(matrix, columns=['real','fake'], index=['real', 'fake'])\n",
    "sns.heatmap(df_cm, annot=True)"
   ]
  },
  {
   "cell_type": "code",
   "execution_count": null,
   "metadata": {},
   "outputs": [],
   "source": [
    "fpr, tpr, thresholds = metrics.roc_curve(y_test, test_pred4)\n",
    "auc = metrics.roc_auc_score(y_test, test_pred)\n",
    "\n",
    "fig,ax = plt.subplots()\n",
    "ax.set_title('AUC={}'.format(auc))\n",
    "fig.suptitle('Roc curve')\n",
    "ax.plot(fpr,tpr)"
   ]
  },
  {
   "cell_type": "code",
   "execution_count": null,
   "metadata": {},
   "outputs": [],
   "source": [
    "test_pred4 = model.predict([padded_test,latent_test])\n",
    "test4 = test.copy()\n",
    "test4[\"label\"] = test_pred\n",
    "for i in range(len(test4)):\n",
    "    if test4.label[i] <0.5:\n",
    "        test4.label[i] = 0 \n",
    "    else:\n",
    "        test4.label[i] = 1"
   ]
  },
  {
   "cell_type": "markdown",
   "metadata": {},
   "source": [
    "## Saving all the files"
   ]
  },
  {
   "cell_type": "code",
   "execution_count": null,
   "metadata": {},
   "outputs": [],
   "source": [
    "submission1= test1[[\"id\",\"label\"]].copy()\n",
    "submission1[\"label\"] = submission1.label.astype(\"int\")\n",
    "filename = 'submission1.csv'\n",
    "submission1.to_csv(filename,index=False)"
   ]
  },
  {
   "cell_type": "code",
   "execution_count": null,
   "metadata": {},
   "outputs": [],
   "source": [
    "submission2= test2[[\"id\",\"label\"]].copy()\n",
    "submission2[\"label\"] = submission2.label.astype(\"int\")\n",
    "filename = 'submission2.csv'\n",
    "submission2.to_csv(filename,index=False)"
   ]
  },
  {
   "cell_type": "code",
   "execution_count": null,
   "metadata": {},
   "outputs": [],
   "source": [
    "submission3= test3[[\"id\",\"label\"]].copy()\n",
    "submission3[\"label\"] = submission3.label.astype(\"int\")\n",
    "filename = 'submission3.csv'\n",
    "submission3.to_csv(filename,index=False)"
   ]
  },
  {
   "cell_type": "code",
   "execution_count": null,
   "metadata": {},
   "outputs": [],
   "source": [
    "submission4= test4[[\"id\",\"label\"]].copy()\n",
    "submission4[\"label\"] = submission4.label.astype(\"int\")\n",
    "filename4 = 'submission4.csv'\n",
    "submission4.to_csv(filename4,index=False)"
   ]
  }
 ],
 "metadata": {
  "kernelspec": {
   "display_name": "Python 3",
   "language": "python",
   "name": "python3"
  },
  "language_info": {
   "codemirror_mode": {
    "name": "ipython",
    "version": 3
   },
   "file_extension": ".py",
   "mimetype": "text/x-python",
   "name": "python",
   "nbconvert_exporter": "python",
   "pygments_lexer": "ipython3",
   "version": "3.8.3"
  }
 },
 "nbformat": 4,
 "nbformat_minor": 4
}
