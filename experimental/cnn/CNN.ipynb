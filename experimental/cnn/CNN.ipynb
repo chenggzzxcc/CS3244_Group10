{
 "cells": [
  {
   "cell_type": "markdown",
   "metadata": {},
   "source": [
    "# Fake News Classification with CNN and CNN-LSTM "
   ]
  },
  {
   "cell_type": "code",
   "execution_count": 1,
   "metadata": {},
   "outputs": [],
   "source": [
    "#Normal Packages\n",
    "import numpy as np\n",
    "import pandas as pd\n",
    "import seaborn as sns\n",
    "import matplotlib.pyplot as plt\n",
    "import nltk\n",
    "from nltk.tokenize import sent_tokenize,word_tokenize\n",
    "from tensorflow import keras as k\n",
    "\n",
    "from keras.models import Model, Sequential\n",
    "from keras.layers import Input, Dense, Flatten, Dropout, Activation, BatchNormalization, LSTM, TimeDistributed\n",
    "from keras.layers import Concatenate, Conv2D, MaxPooling2D, GRU\n",
    "from keras.layers.convolutional import Conv1D, MaxPooling1D\n",
    "from keras.layers.embeddings import Embedding\n",
    "\n",
    "import tensorflow as tf\n",
    "from textblob import TextBlob\n",
    "from collections import Counter\n",
    "from keras.preprocessing import sequence\n",
    "from tensorflow.python.keras.preprocessing.text import Tokenizer\n",
    "from tensorflow.python.keras.preprocessing.sequence import pad_sequences\n",
    "import regex as re\n",
    "from sklearn.model_selection import train_test_split\n",
    "from sklearn.metrics import accuracy_score\n",
    "from sklearn.metrics import classification_report\n",
    "from sklearn.metrics import confusion_matrix\n",
    "from sklearn import metrics\n",
    "\n",
    "\n",
    "def read_pairs(path, separator='\\t', cast=(str, str), offset=0):\n",
    "    with open(path) as f:\n",
    "        return [(cast[0](k), cast[1](v)) for line in f.readlines()[offset:] for k, v in [line.rstrip().split(separator)]]\n"
   ]
  },
  {
   "cell_type": "markdown",
   "metadata": {},
   "source": [
    "### Importing the dataset"
   ]
  },
  {
   "cell_type": "code",
   "execution_count": 25,
   "metadata": {},
   "outputs": [],
   "source": [
    "test_path = \"../../data/final/test.csv\"\n",
    "\n",
    "raw_data_test = dict(read_pairs(test_path, cast=(int,str), offset=1))\n",
    "data_test = {\n",
    "    'id': pd.Index(list(raw_data_test.keys())),\n",
    "    'text': pd.Index(list(raw_data_test.values()))\n",
    "}\n",
    "\n",
    "test = pd.DataFrame(data_test)\n",
    "\n",
    "# train_path = \"../../data/final/train.csv\"\n",
    "\n",
    "# raw_data_train = dict(read_pairs(train_path, cast=(str,int), offset=1))\n",
    "# data_train = {\n",
    "#     'text': pd.Index(list(raw_data_train.keys())),\n",
    "#     'label': pd.Index(list(raw_data_train.values()))\n",
    "# }\n",
    "\n",
    "# train = pd.DataFrame(data_train)"
   ]
  },
  {
   "cell_type": "code",
   "execution_count": 60,
   "metadata": {},
   "outputs": [],
   "source": [
    "train = pd.read_csv(\"../../data/final/data_cleaned.csv\")"
   ]
  },
  {
   "cell_type": "code",
   "execution_count": 61,
   "metadata": {},
   "outputs": [
    {
     "data": {
      "text/html": [
       "<div>\n",
       "<style scoped>\n",
       "    .dataframe tbody tr th:only-of-type {\n",
       "        vertical-align: middle;\n",
       "    }\n",
       "\n",
       "    .dataframe tbody tr th {\n",
       "        vertical-align: top;\n",
       "    }\n",
       "\n",
       "    .dataframe thead th {\n",
       "        text-align: right;\n",
       "    }\n",
       "</style>\n",
       "<table border=\"1\" class=\"dataframe\">\n",
       "  <thead>\n",
       "    <tr style=\"text-align: right;\">\n",
       "      <th></th>\n",
       "      <th>text</th>\n",
       "      <th>label</th>\n",
       "      <th>len_content</th>\n",
       "      <th>avg_len</th>\n",
       "      <th>sent</th>\n",
       "      <th>lexical_diver</th>\n",
       "      <th>use_super</th>\n",
       "      <th>len_exclaim</th>\n",
       "      <th>len_question</th>\n",
       "      <th>first_person</th>\n",
       "    </tr>\n",
       "  </thead>\n",
       "  <tbody>\n",
       "    <tr>\n",
       "      <th>0</th>\n",
       "      <td>get the latest from today sign up for our news...</td>\n",
       "      <td>1</td>\n",
       "      <td>1637</td>\n",
       "      <td>308.0</td>\n",
       "      <td>-0.5719</td>\n",
       "      <td>0.571429</td>\n",
       "      <td>1</td>\n",
       "      <td>0</td>\n",
       "      <td>0</td>\n",
       "      <td>8</td>\n",
       "    </tr>\n",
       "    <tr>\n",
       "      <th>1</th>\n",
       "      <td>conan on the funeral trump will be invited to ...</td>\n",
       "      <td>1</td>\n",
       "      <td>58</td>\n",
       "      <td>12.0</td>\n",
       "      <td>-0.3612</td>\n",
       "      <td>0.833333</td>\n",
       "      <td>0</td>\n",
       "      <td>0</td>\n",
       "      <td>0</td>\n",
       "      <td>0</td>\n",
       "    </tr>\n",
       "    <tr>\n",
       "      <th>2</th>\n",
       "      <td>it safe to say that instagram stories has far ...</td>\n",
       "      <td>0</td>\n",
       "      <td>2563</td>\n",
       "      <td>443.0</td>\n",
       "      <td>0.9863</td>\n",
       "      <td>0.575621</td>\n",
       "      <td>1</td>\n",
       "      <td>0</td>\n",
       "      <td>0</td>\n",
       "      <td>5</td>\n",
       "    </tr>\n",
       "    <tr>\n",
       "      <th>3</th>\n",
       "      <td>much like a certain amazon goddess with a lass...</td>\n",
       "      <td>0</td>\n",
       "      <td>9689</td>\n",
       "      <td>1799.0</td>\n",
       "      <td>0.9994</td>\n",
       "      <td>0.373541</td>\n",
       "      <td>5</td>\n",
       "      <td>0</td>\n",
       "      <td>0</td>\n",
       "      <td>32</td>\n",
       "    </tr>\n",
       "    <tr>\n",
       "      <th>4</th>\n",
       "      <td>at a time when the perfect outfit is just one ...</td>\n",
       "      <td>0</td>\n",
       "      <td>869</td>\n",
       "      <td>144.0</td>\n",
       "      <td>0.7234</td>\n",
       "      <td>0.736111</td>\n",
       "      <td>0</td>\n",
       "      <td>0</td>\n",
       "      <td>0</td>\n",
       "      <td>0</td>\n",
       "    </tr>\n",
       "  </tbody>\n",
       "</table>\n",
       "</div>"
      ],
      "text/plain": [
       "                                                text  label  len_content  \\\n",
       "0  get the latest from today sign up for our news...      1         1637   \n",
       "1  conan on the funeral trump will be invited to ...      1           58   \n",
       "2  it safe to say that instagram stories has far ...      0         2563   \n",
       "3  much like a certain amazon goddess with a lass...      0         9689   \n",
       "4  at a time when the perfect outfit is just one ...      0          869   \n",
       "\n",
       "   avg_len    sent  lexical_diver  use_super  len_exclaim  len_question  \\\n",
       "0    308.0 -0.5719       0.571429          1            0             0   \n",
       "1     12.0 -0.3612       0.833333          0            0             0   \n",
       "2    443.0  0.9863       0.575621          1            0             0   \n",
       "3   1799.0  0.9994       0.373541          5            0             0   \n",
       "4    144.0  0.7234       0.736111          0            0             0   \n",
       "\n",
       "   first_person  \n",
       "0             8  \n",
       "1             0  \n",
       "2             5  \n",
       "3            32  \n",
       "4             0  "
      ]
     },
     "execution_count": 61,
     "metadata": {},
     "output_type": "execute_result"
    }
   ],
   "source": [
    "train.head()"
   ]
  },
  {
   "cell_type": "code",
   "execution_count": 57,
   "metadata": {},
   "outputs": [
    {
     "data": {
      "text/html": [
       "<div>\n",
       "<style scoped>\n",
       "    .dataframe tbody tr th:only-of-type {\n",
       "        vertical-align: middle;\n",
       "    }\n",
       "\n",
       "    .dataframe tbody tr th {\n",
       "        vertical-align: top;\n",
       "    }\n",
       "\n",
       "    .dataframe thead th {\n",
       "        text-align: right;\n",
       "    }\n",
       "</style>\n",
       "<table border=\"1\" class=\"dataframe\">\n",
       "  <thead>\n",
       "    <tr style=\"text-align: right;\">\n",
       "      <th></th>\n",
       "      <th>id</th>\n",
       "      <th>text</th>\n",
       "      <th>len_content</th>\n",
       "      <th>avg_len</th>\n",
       "      <th>sent</th>\n",
       "      <th>lexical_diver</th>\n",
       "      <th>use_super</th>\n",
       "      <th>len_exclaim</th>\n",
       "      <th>len_question</th>\n",
       "      <th>first_person</th>\n",
       "    </tr>\n",
       "  </thead>\n",
       "  <tbody>\n",
       "    <tr>\n",
       "      <th>0</th>\n",
       "      <td>2</td>\n",
       "      <td>the teen choice awards ceremony was held on au...</td>\n",
       "      <td>1028</td>\n",
       "      <td>166.0</td>\n",
       "      <td>0.9657</td>\n",
       "      <td>0.638554</td>\n",
       "      <td>1</td>\n",
       "      <td>0</td>\n",
       "      <td>0</td>\n",
       "      <td>0</td>\n",
       "    </tr>\n",
       "    <tr>\n",
       "      <th>1</th>\n",
       "      <td>3</td>\n",
       "      <td>the concert part of joshua tree tour was slate...</td>\n",
       "      <td>3009</td>\n",
       "      <td>534.0</td>\n",
       "      <td>-0.9842</td>\n",
       "      <td>0.522472</td>\n",
       "      <td>0</td>\n",
       "      <td>0</td>\n",
       "      <td>0</td>\n",
       "      <td>11</td>\n",
       "    </tr>\n",
       "    <tr>\n",
       "      <th>2</th>\n",
       "      <td>4</td>\n",
       "      <td>selena gomez refuses to talk to her mother abo...</td>\n",
       "      <td>1652</td>\n",
       "      <td>296.0</td>\n",
       "      <td>0.9934</td>\n",
       "      <td>0.483108</td>\n",
       "      <td>0</td>\n",
       "      <td>0</td>\n",
       "      <td>0</td>\n",
       "      <td>2</td>\n",
       "    </tr>\n",
       "    <tr>\n",
       "      <th>3</th>\n",
       "      <td>5</td>\n",
       "      <td>this is worse than a lump of coal in your stoc...</td>\n",
       "      <td>2123</td>\n",
       "      <td>396.0</td>\n",
       "      <td>0.9895</td>\n",
       "      <td>0.487374</td>\n",
       "      <td>0</td>\n",
       "      <td>0</td>\n",
       "      <td>0</td>\n",
       "      <td>1</td>\n",
       "    </tr>\n",
       "    <tr>\n",
       "      <th>4</th>\n",
       "      <td>6</td>\n",
       "      <td>luann de lesseps is going to rehab after her a...</td>\n",
       "      <td>1330</td>\n",
       "      <td>232.0</td>\n",
       "      <td>0.9588</td>\n",
       "      <td>0.642241</td>\n",
       "      <td>1</td>\n",
       "      <td>0</td>\n",
       "      <td>0</td>\n",
       "      <td>5</td>\n",
       "    </tr>\n",
       "  </tbody>\n",
       "</table>\n",
       "</div>"
      ],
      "text/plain": [
       "   id                                               text  len_content  \\\n",
       "0   2  the teen choice awards ceremony was held on au...         1028   \n",
       "1   3  the concert part of joshua tree tour was slate...         3009   \n",
       "2   4  selena gomez refuses to talk to her mother abo...         1652   \n",
       "3   5  this is worse than a lump of coal in your stoc...         2123   \n",
       "4   6  luann de lesseps is going to rehab after her a...         1330   \n",
       "\n",
       "   avg_len    sent  lexical_diver  use_super  len_exclaim  len_question  \\\n",
       "0    166.0  0.9657       0.638554          1            0             0   \n",
       "1    534.0 -0.9842       0.522472          0            0             0   \n",
       "2    296.0  0.9934       0.483108          0            0             0   \n",
       "3    396.0  0.9895       0.487374          0            0             0   \n",
       "4    232.0  0.9588       0.642241          1            0             0   \n",
       "\n",
       "   first_person  \n",
       "0             0  \n",
       "1            11  \n",
       "2             2  \n",
       "3             1  \n",
       "4             5  "
      ]
     },
     "execution_count": 57,
     "metadata": {},
     "output_type": "execute_result"
    }
   ],
   "source": [
    "test.head()"
   ]
  },
  {
   "cell_type": "markdown",
   "metadata": {},
   "source": [
    "### Preprocessing for test dataset"
   ]
  },
  {
   "cell_type": "markdown",
   "metadata": {},
   "source": [
    "## Creation of Handpicked Features\n",
    "\n",
    "\n",
    "During our consultation, we felt that there may be additional features that we may find interesting and we would want to feed into our model. These include:\n",
    "\n",
    "* Total number of words in the text\n",
    "* The average length of words in a sentence in the text\n",
    "* The number of exclamations\n",
    "* The number of question marks\n",
    "* The number of superlatives in the text\n",
    "* Sentiment Analysis of the text\n",
    "* Usage of first person pronouns\n",
    "* Lexical Diversity"
   ]
  },
  {
   "cell_type": "code",
   "execution_count": 27,
   "metadata": {},
   "outputs": [
    {
     "name": "stderr",
     "output_type": "stream",
     "text": [
      "[nltk_data] Downloading package vader_lexicon to\n",
      "[nltk_data]     /Users/chengling/nltk_data...\n",
      "[nltk_data]   Package vader_lexicon is already up-to-date!\n"
     ]
    }
   ],
   "source": [
    "## Auxillary functions\n",
    "\n",
    "def clean_text(text):\n",
    "    #Remove URLs\n",
    "    text = re.sub(r\"http\\S+\", \"\", text)\n",
    "    #Tokenize\n",
    "    tokenizer = RegexpTokenizer('\\w+|\\$[\\d\\.]+|\\S+')\n",
    "    tokens = tokenizer.tokenize(text)\n",
    "    #Remove non alphanumeric characters\n",
    "    words = [word.lower() for word in tokens if word.isalpha()]    \n",
    "    return ' '.join(words)\n",
    "\n",
    "\n",
    "def clean_text_array(text):\n",
    "    #Remove URLs\n",
    "    text = re.sub(r\"http\\S+\", \"\", text)\n",
    "    #Tokenize\n",
    "    tokenizer = RegexpTokenizer('\\w+|\\$[\\d\\.]+|\\S+')\n",
    "    tokens = tokenizer.tokenize(text)\n",
    "    #Remove non alphanumeric characters\n",
    "    words = [word.lower() for word in tokens if word.isalpha()]  \n",
    "    return words\n",
    "\n",
    "#This function calculates the average length of text and puts them in a vector per row in the dataframe\n",
    "def average_length(text):\n",
    "    average_length_list = []\n",
    "    for txt in text:\n",
    "        sentences = sent_tokenize(txt) #splitting into sentences\n",
    "        num_words = [len(sentence.split(' ')) for sentence in sentences] #numwords per sentence\n",
    "        average = sum(num for num in num_words)/(len(sentences)) #average number of words / sentence for \n",
    "        average_length_list.append(average) #len words per text \n",
    "    return average_length_list\n",
    "\n",
    "\n",
    "#Counts the words that are in first person\n",
    "def count_person_forms(text, person):\n",
    "    text = tokenize(text.lower())\n",
    "    counter = 0\n",
    "    for word in text:\n",
    "        if word in person:\n",
    "            counter += 1\n",
    "    return counter\n",
    "\n",
    "#Sentiment analysis using vader sentiment\n",
    "from nltk.sentiment.vader import SentimentIntensityAnalyzer\n",
    "import nltk\n",
    "nltk.download('vader_lexicon')\n",
    "\n",
    "def classify_sentiment(text):\n",
    "    sid = SentimentIntensityAnalyzer()\n",
    "    text = text.replace(\"\\n\\n\", \". \").replace(\"\\n\", \". \")\n",
    "    #Remove URLs\n",
    "    text = re.sub(r\"http\\S+\", \"\", text)\n",
    "    pol = sid.polarity_scores(text)['compound']\n",
    "    return pol\n",
    "\n",
    "#Count the lexical diversity of the text\n",
    "def lexical_diversity(text):\n",
    "    #Remove URLs\n",
    "    text = re.sub(r\"http\\S+\", \"\", text)\n",
    "    text = tokenize(text.lower())\n",
    "    if len(text) == 0:\n",
    "        return 0\n",
    "    return len(set(text)) / len(text)\n",
    "\n",
    "def percentage(count, total):\n",
    "    return 100 * count / total\n",
    "\n",
    "#Counts the number of superlatives in the text\n",
    "from textblob import TextBlob\n",
    "\n",
    "def textblob_adj(text):\n",
    "    blobed = TextBlob(text)\n",
    "    counts = Counter(tag for word,tag in blobed.tags)\n",
    "    super_list = []\n",
    "    super_tag_list = ['JJS','RBS']\n",
    "    for (a, b) in blobed.tags:\n",
    "        if b in super_tag_list:\n",
    "           super_list.append(a)\n",
    "    return counts['JJS'] + counts['RBS']\n",
    "\n",
    "def list_superlatives(text):\n",
    "    add_list = []\n",
    "    for txt in text:\n",
    "        add_list.append(textblob_adj(txt))\n",
    "    return add_list\n",
    "\n",
    "from nltk.tokenize import RegexpTokenizer\n",
    "def tokenize(text):\n",
    "    tokenizer = RegexpTokenizer('\\w+|\\$[\\d\\.]+|\\S+')\n",
    "    tokens = tokenizer.tokenize(text)\n",
    "    return tokens"
   ]
  },
  {
   "cell_type": "code",
   "execution_count": 47,
   "metadata": {},
   "outputs": [],
   "source": [
    "train['text'] = train.apply(lambda row: clean_text(row['text']), axis=1)\n",
    "train['len_content'] = train.apply(lambda row: len(row['text']), axis=1)\n",
    "test['text'] = test.apply(lambda row: clean_text(row['text']), axis=1)\n",
    "test['len_content'] = test.apply(lambda row: len(row['text']), axis=1)"
   ]
  },
  {
   "cell_type": "code",
   "execution_count": 51,
   "metadata": {},
   "outputs": [],
   "source": [
    "test['avg_len'] = average_length(test['text'])\n",
    "\n",
    "test['sent'] = test.apply(lambda r: classify_sentiment(r['text']), axis=1)\n",
    "\n",
    "test['lexical_diver'] = test.apply(lambda r: lexical_diversity(r['text']), axis=1)\n",
    "\n",
    "test = test.assign(use_super = list_superlatives(test.text))\n",
    "\n",
    "test['len_exclaim'] = test.text.str.count(\"!\")\n",
    "test['len_question']= test.text.str.count(\"\\?\")\n",
    "\n",
    "first_person = [\"i\", \"me\", \"mine\", \"we\", \"us\", \"our\", \"ours\"]\n",
    "test['first_person'] = test.apply(lambda row: count_person_forms(row['text'], first_person), axis=1)\n"
   ]
  },
  {
   "cell_type": "code",
   "execution_count": 53,
   "metadata": {},
   "outputs": [
    {
     "data": {
      "text/html": [
       "<div>\n",
       "<style scoped>\n",
       "    .dataframe tbody tr th:only-of-type {\n",
       "        vertical-align: middle;\n",
       "    }\n",
       "\n",
       "    .dataframe tbody tr th {\n",
       "        vertical-align: top;\n",
       "    }\n",
       "\n",
       "    .dataframe thead th {\n",
       "        text-align: right;\n",
       "    }\n",
       "</style>\n",
       "<table border=\"1\" class=\"dataframe\">\n",
       "  <thead>\n",
       "    <tr style=\"text-align: right;\">\n",
       "      <th></th>\n",
       "      <th>text</th>\n",
       "      <th>label</th>\n",
       "      <th>len_content</th>\n",
       "      <th>avg_len</th>\n",
       "      <th>sent</th>\n",
       "      <th>lexical_diver</th>\n",
       "      <th>use_super</th>\n",
       "      <th>len_exclaim</th>\n",
       "      <th>len_question</th>\n",
       "      <th>first_person</th>\n",
       "    </tr>\n",
       "  </thead>\n",
       "  <tbody>\n",
       "    <tr>\n",
       "      <th>0</th>\n",
       "      <td>get the latest from today sign up for our news...</td>\n",
       "      <td>1</td>\n",
       "      <td>1637</td>\n",
       "      <td>308.0</td>\n",
       "      <td>-0.5719</td>\n",
       "      <td>0.571429</td>\n",
       "      <td>1</td>\n",
       "      <td>0</td>\n",
       "      <td>0</td>\n",
       "      <td>8</td>\n",
       "    </tr>\n",
       "    <tr>\n",
       "      <th>1</th>\n",
       "      <td>conan on the funeral trump will be invited to ...</td>\n",
       "      <td>1</td>\n",
       "      <td>58</td>\n",
       "      <td>12.0</td>\n",
       "      <td>-0.3612</td>\n",
       "      <td>0.833333</td>\n",
       "      <td>0</td>\n",
       "      <td>0</td>\n",
       "      <td>0</td>\n",
       "      <td>0</td>\n",
       "    </tr>\n",
       "    <tr>\n",
       "      <th>2</th>\n",
       "      <td>it safe to say that instagram stories has far ...</td>\n",
       "      <td>0</td>\n",
       "      <td>2563</td>\n",
       "      <td>443.0</td>\n",
       "      <td>0.9863</td>\n",
       "      <td>0.575621</td>\n",
       "      <td>1</td>\n",
       "      <td>0</td>\n",
       "      <td>0</td>\n",
       "      <td>5</td>\n",
       "    </tr>\n",
       "    <tr>\n",
       "      <th>3</th>\n",
       "      <td>much like a certain amazon goddess with a lass...</td>\n",
       "      <td>0</td>\n",
       "      <td>9689</td>\n",
       "      <td>1799.0</td>\n",
       "      <td>0.9994</td>\n",
       "      <td>0.373541</td>\n",
       "      <td>5</td>\n",
       "      <td>0</td>\n",
       "      <td>0</td>\n",
       "      <td>32</td>\n",
       "    </tr>\n",
       "    <tr>\n",
       "      <th>4</th>\n",
       "      <td>at a time when the perfect outfit is just one ...</td>\n",
       "      <td>0</td>\n",
       "      <td>869</td>\n",
       "      <td>144.0</td>\n",
       "      <td>0.7234</td>\n",
       "      <td>0.736111</td>\n",
       "      <td>0</td>\n",
       "      <td>0</td>\n",
       "      <td>0</td>\n",
       "      <td>0</td>\n",
       "    </tr>\n",
       "  </tbody>\n",
       "</table>\n",
       "</div>"
      ],
      "text/plain": [
       "                                                text  label  len_content  \\\n",
       "0  get the latest from today sign up for our news...      1         1637   \n",
       "1  conan on the funeral trump will be invited to ...      1           58   \n",
       "2  it safe to say that instagram stories has far ...      0         2563   \n",
       "3  much like a certain amazon goddess with a lass...      0         9689   \n",
       "4  at a time when the perfect outfit is just one ...      0          869   \n",
       "\n",
       "   avg_len    sent  lexical_diver  use_super  len_exclaim  len_question  \\\n",
       "0    308.0 -0.5719       0.571429          1            0             0   \n",
       "1     12.0 -0.3612       0.833333          0            0             0   \n",
       "2    443.0  0.9863       0.575621          1            0             0   \n",
       "3   1799.0  0.9994       0.373541          5            0             0   \n",
       "4    144.0  0.7234       0.736111          0            0             0   \n",
       "\n",
       "   first_person  \n",
       "0             8  \n",
       "1             0  \n",
       "2             5  \n",
       "3            32  \n",
       "4             0  "
      ]
     },
     "execution_count": 53,
     "metadata": {},
     "output_type": "execute_result"
    }
   ],
   "source": [
    "test.head()"
   ]
  },
  {
   "cell_type": "markdown",
   "metadata": {},
   "source": [
    "## Padding and embedding the data\n",
    "\n",
    "We use the GloVe embeddings..."
   ]
  },
  {
   "cell_type": "code",
   "execution_count": 62,
   "metadata": {},
   "outputs": [
    {
     "name": "stdout",
     "output_type": "stream",
     "text": [
      "56608\n"
     ]
    }
   ],
   "source": [
    "tokenizer = Tokenizer()\n",
    "tokenizer.fit_on_texts(train.text)\n",
    "\n",
    "#tokenizing by word, maybe can think of way to tokenize by sentence\n",
    "word_index = tokenizer.word_index\n",
    "vocab_size = len(word_index)\n",
    "\n",
    "print(vocab_size)"
   ]
  },
  {
   "cell_type": "code",
   "execution_count": 88,
   "metadata": {},
   "outputs": [],
   "source": [
    "#padding data \n",
    "\n",
    "sequences = tokenizer.texts_to_sequences(train.text)\n",
    "padded = pad_sequences(sequences, maxlen=500, padding='post', truncating='post')\n"
   ]
  },
  {
   "cell_type": "code",
   "execution_count": 92,
   "metadata": {},
   "outputs": [
    {
     "name": "stdout",
     "output_type": "stream",
     "text": [
      "100\n"
     ]
    }
   ],
   "source": [
    "embeddings_index = {}\n",
    "with open('../experimental/rnn/glove.6B.100d.txt', encoding='utf-8') as f:\n",
    "    for line in f:\n",
    "        values = line.split()\n",
    "        word = values[0]\n",
    "        coefs = np.asarray(values[1:], dtype='float32')\n",
    "        embeddings_index[word] = coefs\n",
    "print(len(coefs))\n",
    "\n",
    "embeddings_matrix = np.zeros((vocab_size+1, 100))\n",
    "for word, i in word_index.items():\n",
    "    embedding_vector = embeddings_index.get(word)\n",
    "    if embedding_vector is not None:\n",
    "        embeddings_matrix[i] = embedding_vector\n"
   ]
  },
  {
   "cell_type": "code",
   "execution_count": 97,
   "metadata": {},
   "outputs": [],
   "source": [
    "explicit_train = train.iloc[0:,2:]"
   ]
  },
  {
   "cell_type": "code",
   "execution_count": 98,
   "metadata": {},
   "outputs": [
    {
     "name": "stdout",
     "output_type": "stream",
     "text": [
      "Shape of training data: \n",
      "(3784, 500)\n",
      "(3784,)\n",
      "Shape of test data: \n",
      "(947, 500)\n",
      "(947,)\n",
      "Shape of textual explicit data: \n",
      "(3784, 8)\n",
      "(947, 8)\n"
     ]
    }
   ],
   "source": [
    "x_train,x_test,new_train,new_test,y_train,y_test = train_test_split(padded,explicit_train,train.label,test_size = 0.2,random_state = 42)\n",
    "\n",
    "print('Shape of training data: ') #number of dimension in the array\n",
    "print(x_train.shape) \n",
    "print(y_train.shape)\n",
    "print('Shape of test data: ') #number of dimension in the array\n",
    "print(x_test.shape)\n",
    "print(y_test.shape)\n",
    "print('Shape of textual explicit data: ') #number of dimension in the array\n",
    "print(new_train.shape)\n",
    "print(new_test.shape)"
   ]
  },
  {
   "cell_type": "markdown",
   "metadata": {},
   "source": [
    "### Tokenizing and embedding of test data"
   ]
  },
  {
   "cell_type": "code",
   "execution_count": 94,
   "metadata": {},
   "outputs": [
    {
     "name": "stdout",
     "output_type": "stream",
     "text": [
      "30395\n"
     ]
    }
   ],
   "source": [
    "tokenizer_test = Tokenizer()\n",
    "tokenizer_test.fit_on_texts(test.text)\n",
    "\n",
    "#tokenizing by word, maybe can think of way to tokenize by sentence\n",
    "word_index_test = tokenizer_test.word_index\n",
    "vocab_size_test = len(word_index_test)\n",
    "\n",
    "print(vocab_size_test)"
   ]
  },
  {
   "cell_type": "code",
   "execution_count": 95,
   "metadata": {},
   "outputs": [],
   "source": [
    "#padding data \n",
    "\n",
    "sequences_test = tokenizer_test.texts_to_sequences(test.text)\n",
    "padded_test = pad_sequences(sequences_test, maxlen=500, padding='post', truncating='post')"
   ]
  },
  {
   "cell_type": "code",
   "execution_count": 96,
   "metadata": {},
   "outputs": [
    {
     "name": "stdout",
     "output_type": "stream",
     "text": [
      "100\n"
     ]
    }
   ],
   "source": [
    "embeddings_index_test = {}\n",
    "with open('../experimental/rnn/glove.6B.100d.txt', encoding='utf-8') as f:\n",
    "    for line in f:\n",
    "        values = line.split()\n",
    "        word = values[0]\n",
    "        coefs = np.asarray(values[1:], dtype='float32')\n",
    "        embeddings_index_test[word] = coefs\n",
    "print(len(coefs))\n",
    "\n",
    "embeddings_matrix_test = np.zeros((vocab_size_test+1, 100))\n",
    "for word, i in word_index_test.items():\n",
    "    embedding_vector = embeddings_index_test.get(word)\n",
    "    if embedding_vector is not None:\n",
    "        embeddings_matrix_test[i] = embedding_vector"
   ]
  },
  {
   "cell_type": "code",
   "execution_count": 99,
   "metadata": {},
   "outputs": [],
   "source": [
    "explicit_test = test.iloc[0:,2:]"
   ]
  },
  {
   "cell_type": "markdown",
   "metadata": {},
   "source": [
    "## CNN Model\n",
    "\n",
    "In this first test, we will create our CNN model without our additional features "
   ]
  },
  {
   "cell_type": "code",
   "execution_count": 200,
   "metadata": {},
   "outputs": [
    {
     "name": "stdout",
     "output_type": "stream",
     "text": [
      "Model: \"sequential_6\"\n",
      "_________________________________________________________________\n",
      "Layer (type)                 Output Shape              Param #   \n",
      "=================================================================\n",
      "embedding_10 (Embedding)     (None, 500, 100)          5660900   \n",
      "_________________________________________________________________\n",
      "conv1d_20 (Conv1D)           (None, 498, 80)           24080     \n",
      "_________________________________________________________________\n",
      "max_pooling1d_20 (MaxPooling (None, 249, 80)           0         \n",
      "_________________________________________________________________\n",
      "dropout_24 (Dropout)         (None, 249, 80)           0         \n",
      "_________________________________________________________________\n",
      "flatten_10 (Flatten)         (None, 19920)             0         \n",
      "_________________________________________________________________\n",
      "dense_37 (Dense)             (None, 150)               2988150   \n",
      "_________________________________________________________________\n",
      "dropout_25 (Dropout)         (None, 150)               0         \n",
      "_________________________________________________________________\n",
      "dense_38 (Dense)             (None, 10)                1510      \n",
      "_________________________________________________________________\n",
      "dropout_26 (Dropout)         (None, 10)                0         \n",
      "_________________________________________________________________\n",
      "dense_39 (Dense)             (None, 1)                 11        \n",
      "=================================================================\n",
      "Total params: 8,674,651\n",
      "Trainable params: 8,674,651\n",
      "Non-trainable params: 0\n",
      "_________________________________________________________________\n",
      "None\n"
     ]
    }
   ],
   "source": [
    "model = Sequential()\n",
    "model.add(Embedding(vocab_size+1, 100, input_length=500))\n",
    "\n",
    "model.add(Conv1D(filters=80, kernel_size=3, activation='relu'))\n",
    "model.add(MaxPooling1D(pool_size=2))\n",
    "model.add(Dropout(0.2))\n",
    "\n",
    "model.add(Flatten())\n",
    "\n",
    "model.add(Dense(150,activation = \"relu\"))\n",
    "model.add(Dropout(0.2))\n",
    "\n",
    "model.add(Dense(10))\n",
    "model.add(Dropout(0.2))\n",
    "\n",
    "model.add(Dense(1, activation='sigmoid'))\n",
    "print(model.summary())"
   ]
  },
  {
   "cell_type": "code",
   "execution_count": 201,
   "metadata": {},
   "outputs": [
    {
     "name": "stdout",
     "output_type": "stream",
     "text": [
      "Model: \"sequential_6\"\n",
      "_________________________________________________________________\n",
      "Layer (type)                 Output Shape              Param #   \n",
      "=================================================================\n",
      "embedding_10 (Embedding)     (None, 500, 100)          5660900   \n",
      "_________________________________________________________________\n",
      "conv1d_20 (Conv1D)           (None, 498, 80)           24080     \n",
      "_________________________________________________________________\n",
      "max_pooling1d_20 (MaxPooling (None, 249, 80)           0         \n",
      "_________________________________________________________________\n",
      "dropout_24 (Dropout)         (None, 249, 80)           0         \n",
      "_________________________________________________________________\n",
      "flatten_10 (Flatten)         (None, 19920)             0         \n",
      "_________________________________________________________________\n",
      "dense_37 (Dense)             (None, 150)               2988150   \n",
      "_________________________________________________________________\n",
      "dropout_25 (Dropout)         (None, 150)               0         \n",
      "_________________________________________________________________\n",
      "dense_38 (Dense)             (None, 10)                1510      \n",
      "_________________________________________________________________\n",
      "dropout_26 (Dropout)         (None, 10)                0         \n",
      "_________________________________________________________________\n",
      "dense_39 (Dense)             (None, 1)                 11        \n",
      "=================================================================\n",
      "Total params: 8,674,651\n",
      "Trainable params: 8,674,651\n",
      "Non-trainable params: 0\n",
      "_________________________________________________________________\n"
     ]
    }
   ],
   "source": [
    "model.compile(k.optimizers.Adam(lr=0.0005), loss='binary_crossentropy', metrics=['accuracy'])\n",
    "#model.compile(k.optimizers.SGD(lr=0.1, momentum = 0.1), loss='binary_crossentropy', metrics=['accuracy'])\n",
    "#model.compile(k.optimizers.RMSprop(), loss='binary_crossentropy', metrics=['accuracy'])\n",
    "model.summary()"
   ]
  },
  {
   "cell_type": "code",
   "execution_count": 202,
   "metadata": {},
   "outputs": [
    {
     "name": "stdout",
     "output_type": "stream",
     "text": [
      "Epoch 1/20\n",
      "38/38 [==============================] - 12s 321ms/step - loss: 0.6766 - accuracy: 0.5933 - val_loss: 0.6711 - val_accuracy: 0.6072\n",
      "Epoch 2/20\n",
      "38/38 [==============================] - 10s 262ms/step - loss: 0.6416 - accuracy: 0.6229 - val_loss: 0.6504 - val_accuracy: 0.6061\n",
      "Epoch 3/20\n",
      "38/38 [==============================] - 11s 280ms/step - loss: 0.5033 - accuracy: 0.7748 - val_loss: 0.5653 - val_accuracy: 0.7086\n",
      "Epoch 4/20\n",
      "38/38 [==============================] - 11s 277ms/step - loss: 0.2505 - accuracy: 0.9107 - val_loss: 0.4949 - val_accuracy: 0.7709\n",
      "Epoch 5/20\n",
      "38/38 [==============================] - 11s 284ms/step - loss: 0.0990 - accuracy: 0.9775 - val_loss: 0.5447 - val_accuracy: 0.7624\n",
      "Epoch 6/20\n",
      "38/38 [==============================] - 10s 275ms/step - loss: 0.0444 - accuracy: 0.9915 - val_loss: 0.6048 - val_accuracy: 0.7730\n"
     ]
    }
   ],
   "source": [
    "history = model.fit(x_train, y_train, epochs=20, batch_size=100, validation_data=(x_test, y_test),callbacks = [k.callbacks.EarlyStopping(monitor='val_accuracy', patience=2, min_delta = 0.01)])"
   ]
  },
  {
   "cell_type": "code",
   "execution_count": 203,
   "metadata": {},
   "outputs": [
    {
     "data": {
      "text/plain": [
       "<matplotlib.legend.Legend at 0x7f9e20f96ee0>"
      ]
     },
     "execution_count": 203,
     "metadata": {},
     "output_type": "execute_result"
    },
    {
     "data": {
      "image/png": "[encoded data removed]",
      "text/plain": [
       "<Figure size 1152x432 with 1 Axes>"
      ]
     },
     "metadata": {
      "needs_background": "light"
     },
     "output_type": "display_data"
    }
   ],
   "source": [
    "plt.figure(figsize=(16,6))\n",
    "plt.plot(history.history['val_accuracy'], label='test_acc')\n",
    "plt.plot(history.history['accuracy'], label='train_acc')\n",
    "plt.legend()"
   ]
  },
  {
   "cell_type": "code",
   "execution_count": 204,
   "metadata": {},
   "outputs": [
    {
     "data": {
      "text/plain": [
       "<matplotlib.legend.Legend at 0x7f9e5423bbe0>"
      ]
     },
     "execution_count": 204,
     "metadata": {},
     "output_type": "execute_result"
    },
    {
     "data": {
      "image/png": "[encoded data removed]",
      "text/plain": [
       "<Figure size 1152x432 with 1 Axes>"
      ]
     },
     "metadata": {
      "needs_background": "light"
     },
     "output_type": "display_data"
    }
   ],
   "source": [
    "plt.figure(figsize=(16,6))\n",
    "plt.plot(history.history['val_loss'], label='test_loss')\n",
    "plt.plot(history.history['loss'], label='train_loss')\n",
    "plt.legend()"
   ]
  },
  {
   "cell_type": "code",
   "execution_count": 205,
   "metadata": {},
   "outputs": [
    {
     "data": {
      "text/plain": [
       "0.7729672650475184"
      ]
     },
     "execution_count": 205,
     "metadata": {},
     "output_type": "execute_result"
    }
   ],
   "source": [
    "test_pred = model.predict(x_test)\n",
    "accuracy_score(y_test, test_pred.round())"
   ]
  },
  {
   "cell_type": "code",
   "execution_count": 206,
   "metadata": {},
   "outputs": [
    {
     "name": "stdout",
     "output_type": "stream",
     "text": [
      "              precision    recall  f1-score   support\n",
      "\n",
      "           0       0.79      0.85      0.82       575\n",
      "           1       0.74      0.65      0.69       372\n",
      "\n",
      "    accuracy                           0.77       947\n",
      "   macro avg       0.77      0.75      0.76       947\n",
      "weighted avg       0.77      0.77      0.77       947\n",
      "\n"
     ]
    }
   ],
   "source": [
    "report = classification_report(np.array(y_test.tolist()), test_pred.round())\n",
    "print(report)"
   ]
  },
  {
   "cell_type": "code",
   "execution_count": 199,
   "metadata": {},
   "outputs": [
    {
     "name": "stdout",
     "output_type": "stream",
     "text": [
      "[[477  98]\n",
      " [121 251]]\n"
     ]
    },
    {
     "data": {
      "text/plain": [
       "<matplotlib.axes._subplots.AxesSubplot at 0x7f9e2159c580>"
      ]
     },
     "execution_count": 199,
     "metadata": {},
     "output_type": "execute_result"
    },
    {
     "data": {
      "image/png": "[encoded data removed]",
      "text/plain": [
       "<Figure size 432x288 with 2 Axes>"
      ]
     },
     "metadata": {
      "needs_background": "light"
     },
     "output_type": "display_data"
    }
   ],
   "source": [
    "matrix = confusion_matrix(y_test, test_pred.round())\n",
    "print(matrix)\n",
    "\n",
    "#Plot\n",
    "df_cm = pd.DataFrame(matrix, columns=['real','fake'], index=['real', 'fake'])\n",
    "sns.heatmap(df_cm, annot=True)"
   ]
  },
  {
   "cell_type": "code",
   "execution_count": 108,
   "metadata": {},
   "outputs": [
    {
     "data": {
      "text/plain": [
       "[<matplotlib.lines.Line2D at 0x7f9e61859460>]"
      ]
     },
     "execution_count": 108,
     "metadata": {},
     "output_type": "execute_result"
    },
    {
     "data": {
      "image/png": "[encoded data removed]",
      "text/plain": [
       "<Figure size 432x288 with 1 Axes>"
      ]
     },
     "metadata": {
      "needs_background": "light"
     },
     "output_type": "display_data"
    }
   ],
   "source": [
    "fpr, tpr, thresholds = metrics.roc_curve(y_test, test_pred)\n",
    "auc = metrics.roc_auc_score(y_test, test_pred)\n",
    "\n",
    "fig,ax = plt.subplots()\n",
    "ax.set_title('AUC={}'.format(auc))\n",
    "fig.suptitle('Roc curve')\n",
    "ax.plot(fpr,tpr)"
   ]
  },
  {
   "cell_type": "code",
   "execution_count": 216,
   "metadata": {},
   "outputs": [],
   "source": [
    "test_pred1 = model.predict(padded_test)\n",
    "test1 = test.copy()\n",
    "test1[\"label\"] = test_pred1\n",
    "for i in range(len(test1)):\n",
    "    if test1.label[i] <0.5:\n",
    "        test1.label[i] = 0 \n",
    "    else:\n",
    "        test1.label[i] = 1"
   ]
  },
  {
   "cell_type": "markdown",
   "metadata": {},
   "source": [
    "## CNN Model with additional text explicit features"
   ]
  },
  {
   "cell_type": "code",
   "execution_count": 137,
   "metadata": {},
   "outputs": [],
   "source": [
    "## two shapes of inputs\n",
    "input_1 = Input(shape=(500,))\n",
    "input_2 = Input(shape=(8,))\n",
    "\n",
    "##Text layer\n",
    "embedding_layer = Embedding(vocab_size+1, 100, weights=[embeddings_matrix])(input_1)\n",
    "conv1_layer1 = Conv1D(filters=32, kernel_size=3, activation='relu')(embedding_layer)\n",
    "pool_layer1 = MaxPooling1D(pool_size=4)(conv1_layer1)\n",
    "\n",
    "conv1_layer2 = Conv1D(filters=64, kernel_size=3, activation='relu')(pool_layer1)\n",
    "pool_layer2 = MaxPooling1D(pool_size=4)(conv1_layer2)\n",
    "\n",
    "conv1_layer3 = Conv1D(filters=128, kernel_size=3, activation='relu')(pool_layer2)\n",
    "pool_layer3 = MaxPooling1D(pool_size=4)(conv1_layer3)\n",
    "\n",
    "flat_layer = Flatten()(pool_layer3)\n",
    "\n",
    "## Textual Explicit Features Layer\n",
    "dense_layer_1 = Dense(10, activation='relu')(input_2)\n",
    "dense_layer_2 = Dense(10, activation='relu')(dense_layer_1)\n",
    "\n",
    "#Combining layers\n",
    "concat_layer = Concatenate()([flat_layer, dense_layer_2])\n",
    "dense_layer_3 = Dense(128, activation='relu')(concat_layer)\n",
    "\n",
    "dense_layer_4 = Dense(10, activation='relu')(dense_layer_3)\n",
    "\n",
    "output = Dense(1, activation='sigmoid')(dense_layer_4)\n",
    "model = Model(inputs=[input_1, input_2], outputs=output)\n"
   ]
  },
  {
   "cell_type": "code",
   "execution_count": 138,
   "metadata": {},
   "outputs": [
    {
     "name": "stdout",
     "output_type": "stream",
     "text": [
      "Model: \"functional_5\"\n",
      "__________________________________________________________________________________________________\n",
      "Layer (type)                    Output Shape         Param #     Connected to                     \n",
      "==================================================================================================\n",
      "input_5 (InputLayer)            [(None, 500)]        0                                            \n",
      "__________________________________________________________________________________________________\n",
      "embedding_4 (Embedding)         (None, 500, 100)     5660900     input_5[0][0]                    \n",
      "__________________________________________________________________________________________________\n",
      "conv1d_8 (Conv1D)               (None, 498, 32)      9632        embedding_4[0][0]                \n",
      "__________________________________________________________________________________________________\n",
      "max_pooling1d_8 (MaxPooling1D)  (None, 124, 32)      0           conv1d_8[0][0]                   \n",
      "__________________________________________________________________________________________________\n",
      "conv1d_9 (Conv1D)               (None, 122, 64)      6208        max_pooling1d_8[0][0]            \n",
      "__________________________________________________________________________________________________\n",
      "max_pooling1d_9 (MaxPooling1D)  (None, 30, 64)       0           conv1d_9[0][0]                   \n",
      "__________________________________________________________________________________________________\n",
      "conv1d_10 (Conv1D)              (None, 28, 128)      24704       max_pooling1d_9[0][0]            \n",
      "__________________________________________________________________________________________________\n",
      "input_6 (InputLayer)            [(None, 8)]          0                                            \n",
      "__________________________________________________________________________________________________\n",
      "max_pooling1d_10 (MaxPooling1D) (None, 7, 128)       0           conv1d_10[0][0]                  \n",
      "__________________________________________________________________________________________________\n",
      "dense_16 (Dense)                (None, 10)           90          input_6[0][0]                    \n",
      "__________________________________________________________________________________________________\n",
      "flatten_4 (Flatten)             (None, 896)          0           max_pooling1d_10[0][0]           \n",
      "__________________________________________________________________________________________________\n",
      "dense_17 (Dense)                (None, 10)           110         dense_16[0][0]                   \n",
      "__________________________________________________________________________________________________\n",
      "concatenate_2 (Concatenate)     (None, 906)          0           flatten_4[0][0]                  \n",
      "                                                                 dense_17[0][0]                   \n",
      "__________________________________________________________________________________________________\n",
      "dense_18 (Dense)                (None, 128)          116096      concatenate_2[0][0]              \n",
      "__________________________________________________________________________________________________\n",
      "dense_19 (Dense)                (None, 10)           1290        dense_18[0][0]                   \n",
      "__________________________________________________________________________________________________\n",
      "dense_20 (Dense)                (None, 1)            11          dense_19[0][0]                   \n",
      "==================================================================================================\n",
      "Total params: 5,819,041\n",
      "Trainable params: 5,819,041\n",
      "Non-trainable params: 0\n",
      "__________________________________________________________________________________________________\n"
     ]
    }
   ],
   "source": [
    "model.compile(k.optimizers.Adam(lr=0.0005), loss='binary_crossentropy', metrics=['accuracy'])\n",
    "#model.compile(k.optimizers.SGD(lr=0.1, momentum = 0.1), loss='binary_crossentropy', metrics=['accuracy'])\n",
    "#model.compile(k.optimizers.RMSprop(), loss='binary_crossentropy', metrics=['accuracy'])\n",
    "model.summary()"
   ]
  },
  {
   "cell_type": "code",
   "execution_count": 139,
   "metadata": {},
   "outputs": [
    {
     "name": "stdout",
     "output_type": "stream",
     "text": [
      "Epoch 1/30\n",
      "38/38 [==============================] - 10s 253ms/step - loss: 1.7081 - accuracy: 0.5396 - val_loss: 0.7851 - val_accuracy: 0.6072\n",
      "Epoch 2/30\n",
      "38/38 [==============================] - 8s 217ms/step - loss: 1.0043 - accuracy: 0.5473 - val_loss: 0.7023 - val_accuracy: 0.5713\n",
      "Epoch 3/30\n",
      "38/38 [==============================] - 9s 229ms/step - loss: 0.8189 - accuracy: 0.5698 - val_loss: 0.7894 - val_accuracy: 0.6072\n",
      "Epoch 4/30\n",
      "38/38 [==============================] - 14s 365ms/step - loss: 0.8159 - accuracy: 0.5880 - val_loss: 0.7925 - val_accuracy: 0.4879\n",
      "Epoch 5/30\n",
      "38/38 [==============================] - 14s 362ms/step - loss: 0.7490 - accuracy: 0.6084 - val_loss: 0.7994 - val_accuracy: 0.5512\n",
      "Epoch 6/30\n",
      "38/38 [==============================] - 12s 320ms/step - loss: 0.7180 - accuracy: 0.6485 - val_loss: 0.6317 - val_accuracy: 0.6547\n",
      "Epoch 7/30\n",
      "38/38 [==============================] - 10s 252ms/step - loss: 0.6541 - accuracy: 0.7027 - val_loss: 0.6871 - val_accuracy: 0.6093\n",
      "Epoch 8/30\n",
      "38/38 [==============================] - 10s 253ms/step - loss: 0.5506 - accuracy: 0.7590 - val_loss: 0.6797 - val_accuracy: 0.6959\n",
      "Epoch 9/30\n",
      "38/38 [==============================] - 11s 293ms/step - loss: 0.4199 - accuracy: 0.8206 - val_loss: 0.6536 - val_accuracy: 0.6716\n",
      "Epoch 10/30\n",
      "38/38 [==============================] - 9s 234ms/step - loss: 0.3533 - accuracy: 0.8673 - val_loss: 0.8089 - val_accuracy: 0.6948\n",
      "Epoch 11/30\n",
      "38/38 [==============================] - 8s 205ms/step - loss: 0.1904 - accuracy: 0.9321 - val_loss: 0.8947 - val_accuracy: 0.7054\n",
      "Epoch 12/30\n",
      "38/38 [==============================] - 8s 210ms/step - loss: 0.1374 - accuracy: 0.9609 - val_loss: 0.8786 - val_accuracy: 0.6874\n",
      "Epoch 13/30\n",
      "38/38 [==============================] - 9s 226ms/step - loss: 0.0778 - accuracy: 0.9815 - val_loss: 1.0133 - val_accuracy: 0.6547\n"
     ]
    }
   ],
   "source": [
    "history = model.fit([x_train,new_train], y_train, epochs=30, batch_size=100, validation_data=([x_test,new_test], y_test),callbacks = [k.callbacks.EarlyStopping(monitor='val_accuracy', patience=5, min_delta = 0.01)])"
   ]
  },
  {
   "cell_type": "code",
   "execution_count": 140,
   "metadata": {},
   "outputs": [
    {
     "data": {
      "text/plain": [
       "<matplotlib.legend.Legend at 0x7f9e541d1b50>"
      ]
     },
     "execution_count": 140,
     "metadata": {},
     "output_type": "execute_result"
    },
    {
     "data": {
      "image/png": "[encoded data removed]",
      "text/plain": [
       "<Figure size 1152x432 with 1 Axes>"
      ]
     },
     "metadata": {
      "needs_background": "light"
     },
     "output_type": "display_data"
    }
   ],
   "source": [
    "plt.figure(figsize=(16,6))\n",
    "plt.plot(history.history['val_accuracy'], label='test_acc')\n",
    "plt.plot(history.history['accuracy'], label='train_acc')\n",
    "plt.legend()"
   ]
  },
  {
   "cell_type": "code",
   "execution_count": 141,
   "metadata": {},
   "outputs": [
    {
     "data": {
      "text/plain": [
       "<matplotlib.legend.Legend at 0x7f9e56124dc0>"
      ]
     },
     "execution_count": 141,
     "metadata": {},
     "output_type": "execute_result"
    },
    {
     "data": {
      "image/png": "[encoded data removed]",
      "text/plain": [
       "<Figure size 1152x432 with 1 Axes>"
      ]
     },
     "metadata": {
      "needs_background": "light"
     },
     "output_type": "display_data"
    }
   ],
   "source": [
    "plt.figure(figsize=(16,6))\n",
    "plt.plot(history.history['val_loss'], label='test_loss')\n",
    "plt.plot(history.history['loss'], label='train_loss')\n",
    "plt.legend()"
   ]
  },
  {
   "cell_type": "code",
   "execution_count": 142,
   "metadata": {},
   "outputs": [
    {
     "data": {
      "text/plain": [
       "0.6546990496304118"
      ]
     },
     "execution_count": 142,
     "metadata": {},
     "output_type": "execute_result"
    }
   ],
   "source": [
    "test_pred = model.predict([x_test,new_test])\n",
    "accuracy_score(y_test, test_pred.round())"
   ]
  },
  {
   "cell_type": "code",
   "execution_count": 143,
   "metadata": {},
   "outputs": [
    {
     "name": "stdout",
     "output_type": "stream",
     "text": [
      "              precision    recall  f1-score   support\n",
      "\n",
      "           0       0.74      0.66      0.70       575\n",
      "           1       0.55      0.65      0.59       372\n",
      "\n",
      "    accuracy                           0.65       947\n",
      "   macro avg       0.65      0.65      0.65       947\n",
      "weighted avg       0.67      0.65      0.66       947\n",
      "\n"
     ]
    }
   ],
   "source": [
    "report = classification_report(np.array(y_test.tolist()), test_pred.round())\n",
    "print(report)"
   ]
  },
  {
   "cell_type": "code",
   "execution_count": 144,
   "metadata": {},
   "outputs": [
    {
     "name": "stdout",
     "output_type": "stream",
     "text": [
      "[[380 195]\n",
      " [132 240]]\n"
     ]
    },
    {
     "data": {
      "text/plain": [
       "<matplotlib.axes._subplots.AxesSubplot at 0x7f9e5423faf0>"
      ]
     },
     "execution_count": 144,
     "metadata": {},
     "output_type": "execute_result"
    },
    {
     "data": {
      "image/png": "[encoded data removed]",
      "text/plain": [
       "<Figure size 432x288 with 2 Axes>"
      ]
     },
     "metadata": {
      "needs_background": "light"
     },
     "output_type": "display_data"
    }
   ],
   "source": [
    "matrix = confusion_matrix(y_test, test_pred.round())\n",
    "print(matrix)\n",
    "\n",
    "#Plot\n",
    "df_cm = pd.DataFrame(matrix, columns=['real','fake'], index=['real', 'fake'])\n",
    "sns.heatmap(df_cm, annot=True)"
   ]
  },
  {
   "cell_type": "code",
   "execution_count": 145,
   "metadata": {},
   "outputs": [
    {
     "data": {
      "text/plain": [
       "[<matplotlib.lines.Line2D at 0x7f9e542075e0>]"
      ]
     },
     "execution_count": 145,
     "metadata": {},
     "output_type": "execute_result"
    },
    {
     "data": {
      "image/png": "[encoded data removed]",
      "text/plain": [
       "<Figure size 432x288 with 1 Axes>"
      ]
     },
     "metadata": {
      "needs_background": "light"
     },
     "output_type": "display_data"
    }
   ],
   "source": [
    "fpr, tpr, thresholds = metrics.roc_curve(y_test, test_pred)\n",
    "auc = metrics.roc_auc_score(y_test, test_pred)\n",
    "\n",
    "fig,ax = plt.subplots()\n",
    "ax.set_title('AUC={}'.format(auc))\n",
    "fig.suptitle('Roc curve')\n",
    "ax.plot(fpr,tpr)"
   ]
  },
  {
   "cell_type": "code",
   "execution_count": 146,
   "metadata": {},
   "outputs": [
    {
     "name": "stderr",
     "output_type": "stream",
     "text": [
      "<ipython-input-146-c32d210a8fe8>:6: SettingWithCopyWarning: \n",
      "A value is trying to be set on a copy of a slice from a DataFrame\n",
      "\n",
      "See the caveats in the documentation: https://pandas.pydata.org/pandas-docs/stable/user_guide/indexing.html#returning-a-view-versus-a-copy\n",
      "  test2.label[i] = 0\n",
      "<ipython-input-146-c32d210a8fe8>:8: SettingWithCopyWarning: \n",
      "A value is trying to be set on a copy of a slice from a DataFrame\n",
      "\n",
      "See the caveats in the documentation: https://pandas.pydata.org/pandas-docs/stable/user_guide/indexing.html#returning-a-view-versus-a-copy\n",
      "  test2.label[i] = 1\n"
     ]
    }
   ],
   "source": [
    "test_pred2 = model.predict([padded_test,explicit_test])\n",
    "test2 = test.copy()\n",
    "test2[\"label\"] = test_pred2\n",
    "for i in range(len(test2)):\n",
    "    if test2.label[i] <0.5:\n",
    "        test2.label[i] = 0 \n",
    "    else:\n",
    "        test2.label[i] = 1"
   ]
  },
  {
   "cell_type": "markdown",
   "metadata": {},
   "source": [
    "## CNN-GRU Model"
   ]
  },
  {
   "cell_type": "code",
   "execution_count": 147,
   "metadata": {},
   "outputs": [
    {
     "name": "stdout",
     "output_type": "stream",
     "text": [
      "Model: \"sequential_2\"\n",
      "_________________________________________________________________\n",
      "Layer (type)                 Output Shape              Param #   \n",
      "=================================================================\n",
      "embedding_5 (Embedding)      (None, 500, 100)          5660900   \n",
      "_________________________________________________________________\n",
      "conv1d_11 (Conv1D)           (None, 500, 32)           9632      \n",
      "_________________________________________________________________\n",
      "max_pooling1d_11 (MaxPooling (None, 250, 32)           0         \n",
      "_________________________________________________________________\n",
      "dropout_6 (Dropout)          (None, 250, 32)           0         \n",
      "_________________________________________________________________\n",
      "conv1d_12 (Conv1D)           (None, 250, 64)           6208      \n",
      "_________________________________________________________________\n",
      "max_pooling1d_12 (MaxPooling (None, 125, 64)           0         \n",
      "_________________________________________________________________\n",
      "dropout_7 (Dropout)          (None, 125, 64)           0         \n",
      "_________________________________________________________________\n",
      "conv1d_13 (Conv1D)           (None, 125, 128)          24704     \n",
      "_________________________________________________________________\n",
      "max_pooling1d_13 (MaxPooling (None, 62, 128)           0         \n",
      "_________________________________________________________________\n",
      "dropout_8 (Dropout)          (None, 62, 128)           0         \n",
      "_________________________________________________________________\n",
      "gru (GRU)                    (None, 62, 50)            27000     \n",
      "_________________________________________________________________\n",
      "dropout_9 (Dropout)          (None, 62, 50)            0         \n",
      "_________________________________________________________________\n",
      "flatten_5 (Flatten)          (None, 3100)              0         \n",
      "_________________________________________________________________\n",
      "dense_21 (Dense)             (None, 128)               396928    \n",
      "_________________________________________________________________\n",
      "dropout_10 (Dropout)         (None, 128)               0         \n",
      "_________________________________________________________________\n",
      "dense_22 (Dense)             (None, 1)                 129       \n",
      "=================================================================\n",
      "Total params: 6,125,501\n",
      "Trainable params: 6,125,501\n",
      "Non-trainable params: 0\n",
      "_________________________________________________________________\n",
      "None\n"
     ]
    }
   ],
   "source": [
    "model = Sequential()\n",
    "model.add(Embedding(vocab_size+1, 100, input_length=500))\n",
    "model.add(Conv1D(32,kernel_size=3,padding='same',activation='relu'))\n",
    "model.add(MaxPooling1D(pool_size=2))\n",
    "model.add(Dropout(0.3))\n",
    "model.add(Conv1D(64,kernel_size=3,padding='same',activation='relu'))\n",
    "model.add(MaxPooling1D(pool_size=2))\n",
    "model.add(Dropout(0.35))\n",
    "model.add(Conv1D(128,kernel_size=3,padding='same',activation='relu'))\n",
    "model.add(MaxPooling1D(pool_size=2))\n",
    "model.add(Dropout(0.4))\n",
    "model.add(GRU(50,return_sequences=True))\n",
    "model.add(Dropout(0.25))\n",
    "model.add(Flatten())\n",
    "model.add(Dense(128,activation='relu'))\n",
    "model.add(Dropout(0.45))\n",
    "model.add(Dense(1, activation='sigmoid'))\n",
    "print(model.summary())"
   ]
  },
  {
   "cell_type": "code",
   "execution_count": 148,
   "metadata": {},
   "outputs": [
    {
     "name": "stdout",
     "output_type": "stream",
     "text": [
      "Model: \"sequential_2\"\n",
      "_________________________________________________________________\n",
      "Layer (type)                 Output Shape              Param #   \n",
      "=================================================================\n",
      "embedding_5 (Embedding)      (None, 500, 100)          5660900   \n",
      "_________________________________________________________________\n",
      "conv1d_11 (Conv1D)           (None, 500, 32)           9632      \n",
      "_________________________________________________________________\n",
      "max_pooling1d_11 (MaxPooling (None, 250, 32)           0         \n",
      "_________________________________________________________________\n",
      "dropout_6 (Dropout)          (None, 250, 32)           0         \n",
      "_________________________________________________________________\n",
      "conv1d_12 (Conv1D)           (None, 250, 64)           6208      \n",
      "_________________________________________________________________\n",
      "max_pooling1d_12 (MaxPooling (None, 125, 64)           0         \n",
      "_________________________________________________________________\n",
      "dropout_7 (Dropout)          (None, 125, 64)           0         \n",
      "_________________________________________________________________\n",
      "conv1d_13 (Conv1D)           (None, 125, 128)          24704     \n",
      "_________________________________________________________________\n",
      "max_pooling1d_13 (MaxPooling (None, 62, 128)           0         \n",
      "_________________________________________________________________\n",
      "dropout_8 (Dropout)          (None, 62, 128)           0         \n",
      "_________________________________________________________________\n",
      "gru (GRU)                    (None, 62, 50)            27000     \n",
      "_________________________________________________________________\n",
      "dropout_9 (Dropout)          (None, 62, 50)            0         \n",
      "_________________________________________________________________\n",
      "flatten_5 (Flatten)          (None, 3100)              0         \n",
      "_________________________________________________________________\n",
      "dense_21 (Dense)             (None, 128)               396928    \n",
      "_________________________________________________________________\n",
      "dropout_10 (Dropout)         (None, 128)               0         \n",
      "_________________________________________________________________\n",
      "dense_22 (Dense)             (None, 1)                 129       \n",
      "=================================================================\n",
      "Total params: 6,125,501\n",
      "Trainable params: 6,125,501\n",
      "Non-trainable params: 0\n",
      "_________________________________________________________________\n"
     ]
    }
   ],
   "source": [
    "model.compile(loss='binary_crossentropy', optimizer=\"adam\", metrics=['accuracy'])\n",
    "model.summary()"
   ]
  },
  {
   "cell_type": "code",
   "execution_count": 149,
   "metadata": {},
   "outputs": [
    {
     "name": "stdout",
     "output_type": "stream",
     "text": [
      "Epoch 1/20\n",
      "38/38 [==============================] - 18s 462ms/step - loss: 0.6736 - accuracy: 0.6041 - val_loss: 0.6658 - val_accuracy: 0.6072\n",
      "Epoch 2/20\n",
      "38/38 [==============================] - 16s 432ms/step - loss: 0.6067 - accuracy: 0.6562 - val_loss: 0.5719 - val_accuracy: 0.7012\n",
      "Epoch 3/20\n",
      "38/38 [==============================] - 14s 375ms/step - loss: 0.3189 - accuracy: 0.8737 - val_loss: 0.5332 - val_accuracy: 0.7487\n",
      "Epoch 4/20\n",
      "38/38 [==============================] - 13s 341ms/step - loss: 0.0975 - accuracy: 0.9701 - val_loss: 0.8266 - val_accuracy: 0.7276\n",
      "Epoch 5/20\n",
      "38/38 [==============================] - 13s 336ms/step - loss: 0.0408 - accuracy: 0.9873 - val_loss: 1.0052 - val_accuracy: 0.7307\n"
     ]
    }
   ],
   "source": [
    "history = model.fit(x_train, y_train, epochs=20, batch_size=100, validation_data=(x_test, y_test),callbacks = [k.callbacks.EarlyStopping(monitor='val_accuracy', patience=2, min_delta = 0.01)])"
   ]
  },
  {
   "cell_type": "code",
   "execution_count": 150,
   "metadata": {},
   "outputs": [
    {
     "data": {
      "text/plain": [
       "<matplotlib.legend.Legend at 0x7f9e40d7a5e0>"
      ]
     },
     "execution_count": 150,
     "metadata": {},
     "output_type": "execute_result"
    },
    {
     "data": {
      "image/png": "[encoded data removed]",
      "text/plain": [
       "<Figure size 1152x432 with 1 Axes>"
      ]
     },
     "metadata": {
      "needs_background": "light"
     },
     "output_type": "display_data"
    }
   ],
   "source": [
    "plt.figure(figsize=(16,6))\n",
    "plt.plot(history.history['val_accuracy'], label='test_acc')\n",
    "plt.plot(history.history['accuracy'], label='train_acc')\n",
    "plt.legend()"
   ]
  },
  {
   "cell_type": "code",
   "execution_count": 151,
   "metadata": {},
   "outputs": [
    {
     "data": {
      "text/plain": [
       "<matplotlib.legend.Legend at 0x7f9e40e64820>"
      ]
     },
     "execution_count": 151,
     "metadata": {},
     "output_type": "execute_result"
    },
    {
     "data": {
      "image/png": "[encoded data removed]",
      "text/plain": [
       "<Figure size 1152x432 with 1 Axes>"
      ]
     },
     "metadata": {
      "needs_background": "light"
     },
     "output_type": "display_data"
    }
   ],
   "source": [
    "plt.figure(figsize=(16,6))\n",
    "plt.plot(history.history['val_loss'], label='test_loss')\n",
    "plt.plot(history.history['loss'], label='train_loss')\n",
    "plt.legend()"
   ]
  },
  {
   "cell_type": "code",
   "execution_count": 152,
   "metadata": {},
   "outputs": [
    {
     "data": {
      "text/plain": [
       "0.7307286166842661"
      ]
     },
     "execution_count": 152,
     "metadata": {},
     "output_type": "execute_result"
    }
   ],
   "source": [
    "test_pred = model.predict(x_test)\n",
    "accuracy_score(y_test, test_pred.round())"
   ]
  },
  {
   "cell_type": "code",
   "execution_count": 153,
   "metadata": {},
   "outputs": [
    {
     "name": "stdout",
     "output_type": "stream",
     "text": [
      "              precision    recall  f1-score   support\n",
      "\n",
      "           0       0.82      0.71      0.76       575\n",
      "           1       0.63      0.76      0.69       372\n",
      "\n",
      "    accuracy                           0.73       947\n",
      "   macro avg       0.73      0.74      0.73       947\n",
      "weighted avg       0.75      0.73      0.73       947\n",
      "\n"
     ]
    }
   ],
   "source": [
    "report = classification_report(np.array(y_test.tolist()), test_pred.round())\n",
    "print(report)"
   ]
  },
  {
   "cell_type": "code",
   "execution_count": 154,
   "metadata": {},
   "outputs": [
    {
     "name": "stdout",
     "output_type": "stream",
     "text": [
      "[[408 167]\n",
      " [ 88 284]]\n"
     ]
    },
    {
     "data": {
      "text/plain": [
       "<matplotlib.axes._subplots.AxesSubplot at 0x7f9e410d02e0>"
      ]
     },
     "execution_count": 154,
     "metadata": {},
     "output_type": "execute_result"
    },
    {
     "data": {
      "image/png": "[encoded data removed]",
      "text/plain": [
       "<Figure size 432x288 with 2 Axes>"
      ]
     },
     "metadata": {
      "needs_background": "light"
     },
     "output_type": "display_data"
    }
   ],
   "source": [
    "matrix = confusion_matrix(y_test, test_pred.round())\n",
    "print(matrix)\n",
    "\n",
    "#Plot\n",
    "df_cm = pd.DataFrame(matrix, columns=['real','fake'], index=['real', 'fake'])\n",
    "sns.heatmap(df_cm, annot=True)"
   ]
  },
  {
   "cell_type": "code",
   "execution_count": 155,
   "metadata": {},
   "outputs": [
    {
     "data": {
      "text/plain": [
       "[<matplotlib.lines.Line2D at 0x7f9e40cacbe0>]"
      ]
     },
     "execution_count": 155,
     "metadata": {},
     "output_type": "execute_result"
    },
    {
     "data": {
      "image/png": "[encoded data removed]",
      "text/plain": [
       "<Figure size 432x288 with 1 Axes>"
      ]
     },
     "metadata": {
      "needs_background": "light"
     },
     "output_type": "display_data"
    }
   ],
   "source": [
    "fpr, tpr, thresholds = metrics.roc_curve(y_test, test_pred)\n",
    "auc = metrics.roc_auc_score(y_test, test_pred)\n",
    "\n",
    "fig,ax = plt.subplots()\n",
    "ax.set_title('AUC={}'.format(auc))\n",
    "fig.suptitle('Roc curve')\n",
    "ax.plot(fpr,tpr)"
   ]
  },
  {
   "cell_type": "code",
   "execution_count": 156,
   "metadata": {},
   "outputs": [
    {
     "name": "stderr",
     "output_type": "stream",
     "text": [
      "<ipython-input-156-31c01be3e6db>:6: SettingWithCopyWarning: \n",
      "A value is trying to be set on a copy of a slice from a DataFrame\n",
      "\n",
      "See the caveats in the documentation: https://pandas.pydata.org/pandas-docs/stable/user_guide/indexing.html#returning-a-view-versus-a-copy\n",
      "  test3.label[i] = 0\n",
      "<ipython-input-156-31c01be3e6db>:8: SettingWithCopyWarning: \n",
      "A value is trying to be set on a copy of a slice from a DataFrame\n",
      "\n",
      "See the caveats in the documentation: https://pandas.pydata.org/pandas-docs/stable/user_guide/indexing.html#returning-a-view-versus-a-copy\n",
      "  test3.label[i] = 1\n"
     ]
    }
   ],
   "source": [
    "test_pred3 = model.predict(padded_test)\n",
    "test3 = test.copy()\n",
    "test3[\"label\"] = test_pred3\n",
    "for i in range(len(test3)):\n",
    "    if test3.label[i] <0.5:\n",
    "        test3.label[i] = 0 \n",
    "    else:\n",
    "        test3.label[i] = 1"
   ]
  },
  {
   "cell_type": "markdown",
   "metadata": {},
   "source": [
    "## CNN-GRU Model with textual explicit features"
   ]
  },
  {
   "cell_type": "code",
   "execution_count": 157,
   "metadata": {},
   "outputs": [],
   "source": [
    "## two shapes of inputs\n",
    "input_1 = Input(shape=(500,))\n",
    "input_2 = Input(shape=(8,))\n",
    "\n",
    "##Text layer\n",
    "embedding_layer = Embedding(vocab_size+1, 100, weights=[embeddings_matrix])(input_1)\n",
    "conv1_layer1 = Conv1D(filters=32, kernel_size=3, activation='relu')(embedding_layer)\n",
    "pool_layer1 = MaxPooling1D(pool_size=4)(conv1_layer1)\n",
    "drop1 = Dropout(0.3)(pool_layer1)\n",
    "\n",
    "conv1_layer2 = Conv1D(filters=64, kernel_size=3, activation='relu')(drop1)\n",
    "pool_layer2 = MaxPooling1D(pool_size=4)(conv1_layer2)\n",
    "drop2 = Dropout(0.35)(pool_layer2)\n",
    "\n",
    "conv1_layer3 = Conv1D(filters=128, kernel_size=3, activation='relu')(drop2)\n",
    "pool_layer3 = MaxPooling1D(pool_size=4)(conv1_layer3)\n",
    "drop3 = Dropout(0.4)(pool_layer3)\n",
    "\n",
    "GRU1 = GRU(50,return_sequences=True)(drop3)\n",
    "drop4 = Dropout(0.25)(GRU1)\n",
    "\n",
    "flat_layer = Flatten()(drop4)\n",
    "\n",
    "## Textual explicit Features Layer\n",
    "dense_layer_1 = Dense(10, activation='relu')(input_2)\n",
    "dense_layer_2 = Dense(10, activation='relu')(dense_layer_1)\n",
    "\n",
    "#Combining layers\n",
    "concat_layer = Concatenate()([flat_layer, dense_layer_2])\n",
    "dense_layer_3 = Dense(128, activation='relu')(concat_layer)\n",
    "\n",
    "dense_layer_4 = Dense(10, activation='relu')(dense_layer_3)\n",
    "\n",
    "output = Dense(1, activation='sigmoid')(dense_layer_4)\n",
    "model = Model(inputs=[input_1, input_2], outputs=output)\n"
   ]
  },
  {
   "cell_type": "code",
   "execution_count": 158,
   "metadata": {},
   "outputs": [
    {
     "name": "stdout",
     "output_type": "stream",
     "text": [
      "Model: \"functional_7\"\n",
      "__________________________________________________________________________________________________\n",
      "Layer (type)                    Output Shape         Param #     Connected to                     \n",
      "==================================================================================================\n",
      "input_7 (InputLayer)            [(None, 500)]        0                                            \n",
      "__________________________________________________________________________________________________\n",
      "embedding_6 (Embedding)         (None, 500, 100)     5660900     input_7[0][0]                    \n",
      "__________________________________________________________________________________________________\n",
      "conv1d_14 (Conv1D)              (None, 498, 32)      9632        embedding_6[0][0]                \n",
      "__________________________________________________________________________________________________\n",
      "max_pooling1d_14 (MaxPooling1D) (None, 124, 32)      0           conv1d_14[0][0]                  \n",
      "__________________________________________________________________________________________________\n",
      "dropout_11 (Dropout)            (None, 124, 32)      0           max_pooling1d_14[0][0]           \n",
      "__________________________________________________________________________________________________\n",
      "conv1d_15 (Conv1D)              (None, 122, 64)      6208        dropout_11[0][0]                 \n",
      "__________________________________________________________________________________________________\n",
      "max_pooling1d_15 (MaxPooling1D) (None, 30, 64)       0           conv1d_15[0][0]                  \n",
      "__________________________________________________________________________________________________\n",
      "dropout_12 (Dropout)            (None, 30, 64)       0           max_pooling1d_15[0][0]           \n",
      "__________________________________________________________________________________________________\n",
      "conv1d_16 (Conv1D)              (None, 28, 128)      24704       dropout_12[0][0]                 \n",
      "__________________________________________________________________________________________________\n",
      "max_pooling1d_16 (MaxPooling1D) (None, 7, 128)       0           conv1d_16[0][0]                  \n",
      "__________________________________________________________________________________________________\n",
      "dropout_13 (Dropout)            (None, 7, 128)       0           max_pooling1d_16[0][0]           \n",
      "__________________________________________________________________________________________________\n",
      "gru_1 (GRU)                     (None, 7, 50)        27000       dropout_13[0][0]                 \n",
      "__________________________________________________________________________________________________\n",
      "input_8 (InputLayer)            [(None, 8)]          0                                            \n",
      "__________________________________________________________________________________________________\n",
      "dropout_14 (Dropout)            (None, 7, 50)        0           gru_1[0][0]                      \n",
      "__________________________________________________________________________________________________\n",
      "dense_23 (Dense)                (None, 10)           90          input_8[0][0]                    \n",
      "__________________________________________________________________________________________________\n",
      "flatten_6 (Flatten)             (None, 350)          0           dropout_14[0][0]                 \n",
      "__________________________________________________________________________________________________\n",
      "dense_24 (Dense)                (None, 10)           110         dense_23[0][0]                   \n",
      "__________________________________________________________________________________________________\n",
      "concatenate_3 (Concatenate)     (None, 360)          0           flatten_6[0][0]                  \n",
      "                                                                 dense_24[0][0]                   \n",
      "__________________________________________________________________________________________________\n",
      "dense_25 (Dense)                (None, 128)          46208       concatenate_3[0][0]              \n",
      "__________________________________________________________________________________________________\n",
      "dense_26 (Dense)                (None, 10)           1290        dense_25[0][0]                   \n",
      "__________________________________________________________________________________________________\n",
      "dense_27 (Dense)                (None, 1)            11          dense_26[0][0]                   \n",
      "==================================================================================================\n",
      "Total params: 5,776,153\n",
      "Trainable params: 5,776,153\n",
      "Non-trainable params: 0\n",
      "__________________________________________________________________________________________________\n"
     ]
    }
   ],
   "source": [
    "model.compile(k.optimizers.Adam(lr=0.001), loss='binary_crossentropy', metrics=['accuracy'])\n",
    "#model.compile(k.optimizers.SGD(lr=0.1, momentum = 0.1), loss='binary_crossentropy', metrics=['accuracy'])\n",
    "#model.compile(k.optimizers.RMSprop(), loss='binary_crossentropy', metrics=['accuracy'])\n",
    "model.summary()"
   ]
  },
  {
   "cell_type": "code",
   "execution_count": 159,
   "metadata": {},
   "outputs": [
    {
     "name": "stdout",
     "output_type": "stream",
     "text": [
      "Epoch 1/30\n",
      "38/38 [==============================] - 10s 255ms/step - loss: 4.9719 - accuracy: 0.5180 - val_loss: 1.6153 - val_accuracy: 0.6082\n",
      "Epoch 2/30\n",
      "38/38 [==============================] - 9s 241ms/step - loss: 0.9509 - accuracy: 0.5375 - val_loss: 0.7325 - val_accuracy: 0.6040\n",
      "Epoch 3/30\n",
      "38/38 [==============================] - 9s 242ms/step - loss: 0.7619 - accuracy: 0.5806 - val_loss: 0.7262 - val_accuracy: 0.5259\n",
      "Epoch 4/30\n",
      "38/38 [==============================] - 9s 240ms/step - loss: 1.1010 - accuracy: 0.5727 - val_loss: 1.1598 - val_accuracy: 0.6072\n",
      "Epoch 5/30\n",
      "38/38 [==============================] - 11s 298ms/step - loss: 0.7955 - accuracy: 0.5690 - val_loss: 1.1315 - val_accuracy: 0.6072\n",
      "Epoch 6/30\n",
      "38/38 [==============================] - 9s 246ms/step - loss: 0.8196 - accuracy: 0.6284 - val_loss: 0.7053 - val_accuracy: 0.6948\n",
      "Epoch 7/30\n",
      "38/38 [==============================] - 9s 241ms/step - loss: 0.6685 - accuracy: 0.7217 - val_loss: 0.6961 - val_accuracy: 0.7402\n",
      "Epoch 8/30\n",
      "38/38 [==============================] - 9s 228ms/step - loss: 0.5280 - accuracy: 0.7862 - val_loss: 0.6530 - val_accuracy: 0.6800\n",
      "Epoch 9/30\n",
      "38/38 [==============================] - 10s 257ms/step - loss: 0.3914 - accuracy: 0.8438 - val_loss: 0.5843 - val_accuracy: 0.7466\n",
      "Epoch 10/30\n",
      "38/38 [==============================] - 8s 209ms/step - loss: 0.5181 - accuracy: 0.8507 - val_loss: 0.6395 - val_accuracy: 0.7297\n",
      "Epoch 11/30\n",
      "38/38 [==============================] - 9s 224ms/step - loss: 0.2054 - accuracy: 0.9366 - val_loss: 0.9438 - val_accuracy: 0.7423\n",
      "Epoch 12/30\n",
      "38/38 [==============================] - 10s 258ms/step - loss: 0.1628 - accuracy: 0.9530 - val_loss: 0.9192 - val_accuracy: 0.7328\n"
     ]
    }
   ],
   "source": [
    "history = model.fit([x_train,new_train], y_train, epochs=30, batch_size=100, validation_data=([x_test,new_test], y_test),callbacks = [k.callbacks.EarlyStopping(monitor='val_accuracy', patience=5, min_delta = 0.01)])"
   ]
  },
  {
   "cell_type": "code",
   "execution_count": 160,
   "metadata": {},
   "outputs": [
    {
     "data": {
      "text/plain": [
       "<matplotlib.legend.Legend at 0x7f9e41e545e0>"
      ]
     },
     "execution_count": 160,
     "metadata": {},
     "output_type": "execute_result"
    },
    {
     "data": {
      "image/png": "[encoded data removed]",
      "text/plain": [
       "<Figure size 1152x432 with 1 Axes>"
      ]
     },
     "metadata": {
      "needs_background": "light"
     },
     "output_type": "display_data"
    }
   ],
   "source": [
    "plt.figure(figsize=(16,6))\n",
    "plt.plot(history.history['val_accuracy'], label='test_acc')\n",
    "plt.plot(history.history['accuracy'], label='train_acc')\n",
    "plt.legend()"
   ]
  },
  {
   "cell_type": "code",
   "execution_count": 161,
   "metadata": {},
   "outputs": [
    {
     "data": {
      "text/plain": [
       "<matplotlib.legend.Legend at 0x7f9e421a5dc0>"
      ]
     },
     "execution_count": 161,
     "metadata": {},
     "output_type": "execute_result"
    },
    {
     "data": {
      "image/png": "[encoded data removed]",
      "text/plain": [
       "<Figure size 1152x432 with 1 Axes>"
      ]
     },
     "metadata": {
      "needs_background": "light"
     },
     "output_type": "display_data"
    }
   ],
   "source": [
    "plt.figure(figsize=(16,6))\n",
    "plt.plot(history.history['val_loss'], label='test_loss')\n",
    "plt.plot(history.history['loss'], label='train_loss')\n",
    "plt.legend()"
   ]
  },
  {
   "cell_type": "code",
   "execution_count": 162,
   "metadata": {},
   "outputs": [
    {
     "data": {
      "text/plain": [
       "0.7328405491024287"
      ]
     },
     "execution_count": 162,
     "metadata": {},
     "output_type": "execute_result"
    }
   ],
   "source": [
    "test_pred = model.predict([x_test,new_test])\n",
    "accuracy_score(y_test, test_pred.round())"
   ]
  },
  {
   "cell_type": "code",
   "execution_count": 163,
   "metadata": {},
   "outputs": [
    {
     "name": "stdout",
     "output_type": "stream",
     "text": [
      "              precision    recall  f1-score   support\n",
      "\n",
      "           0       0.75      0.83      0.79       575\n",
      "           1       0.69      0.58      0.63       372\n",
      "\n",
      "    accuracy                           0.73       947\n",
      "   macro avg       0.72      0.71      0.71       947\n",
      "weighted avg       0.73      0.73      0.73       947\n",
      "\n"
     ]
    }
   ],
   "source": [
    "report = classification_report(np.array(y_test.tolist()), test_pred.round())\n",
    "print(report)"
   ]
  },
  {
   "cell_type": "code",
   "execution_count": 164,
   "metadata": {},
   "outputs": [
    {
     "name": "stdout",
     "output_type": "stream",
     "text": [
      "[[478  97]\n",
      " [156 216]]\n"
     ]
    },
    {
     "data": {
      "text/plain": [
       "<matplotlib.axes._subplots.AxesSubplot at 0x7f9e60c62d00>"
      ]
     },
     "execution_count": 164,
     "metadata": {},
     "output_type": "execute_result"
    },
    {
     "data": {
      "image/png": "[encoded data removed]",
      "text/plain": [
       "<Figure size 432x288 with 2 Axes>"
      ]
     },
     "metadata": {
      "needs_background": "light"
     },
     "output_type": "display_data"
    }
   ],
   "source": [
    "matrix = confusion_matrix(y_test, test_pred.round())\n",
    "print(matrix)\n",
    "\n",
    "#Plot\n",
    "df_cm = pd.DataFrame(matrix, columns=['real','fake'], index=['real', 'fake'])\n",
    "sns.heatmap(df_cm, annot=True)"
   ]
  },
  {
   "cell_type": "code",
   "execution_count": 167,
   "metadata": {},
   "outputs": [
    {
     "data": {
      "text/plain": [
       "[<matplotlib.lines.Line2D at 0x7f9e410d05e0>]"
      ]
     },
     "execution_count": 167,
     "metadata": {},
     "output_type": "execute_result"
    },
    {
     "data": {
      "image/png": "[encoded data removed]",
      "text/plain": [
       "<Figure size 432x288 with 1 Axes>"
      ]
     },
     "metadata": {
      "needs_background": "light"
     },
     "output_type": "display_data"
    }
   ],
   "source": [
    "fpr, tpr, thresholds = metrics.roc_curve(y_test, test_pred)\n",
    "auc = metrics.roc_auc_score(y_test, test_pred)\n",
    "\n",
    "fig,ax = plt.subplots()\n",
    "ax.set_title('AUC={}'.format(auc))\n",
    "fig.suptitle('Roc curve')\n",
    "ax.plot(fpr,tpr)"
   ]
  },
  {
   "cell_type": "code",
   "execution_count": 215,
   "metadata": {},
   "outputs": [
    {
     "name": "stderr",
     "output_type": "stream",
     "text": [
      "<ipython-input-215-e328455c712a>:6: SettingWithCopyWarning: \n",
      "A value is trying to be set on a copy of a slice from a DataFrame\n",
      "\n",
      "See the caveats in the documentation: https://pandas.pydata.org/pandas-docs/stable/user_guide/indexing.html#returning-a-view-versus-a-copy\n",
      "  test4.label[i] = 0\n",
      "<ipython-input-215-e328455c712a>:8: SettingWithCopyWarning: \n",
      "A value is trying to be set on a copy of a slice from a DataFrame\n",
      "\n",
      "See the caveats in the documentation: https://pandas.pydata.org/pandas-docs/stable/user_guide/indexing.html#returning-a-view-versus-a-copy\n",
      "  test4.label[i] = 1\n"
     ]
    }
   ],
   "source": [
    "test_pred4 = model.predict([padded_test,explicit_test])\n",
    "test4 = test.copy()\n",
    "test4[\"label\"] = test_pred4\n",
    "for i in range(len(test4)):\n",
    "    if test4.label[i] <0.5:\n",
    "        test4.label[i] = 0 \n",
    "    else:\n",
    "        test4.label[i] = 1"
   ]
  },
  {
   "cell_type": "markdown",
   "metadata": {},
   "source": [
    "## Saving all the files"
   ]
  },
  {
   "cell_type": "code",
   "execution_count": 217,
   "metadata": {},
   "outputs": [],
   "source": [
    "submission1= test1[[\"id\",\"label\"]].copy()\n",
    "submission1[\"label\"] = submission1.label.astype(\"int\")\n",
    "filename = 'submission1.csv'\n",
    "submission1.to_csv(filename,index=False)"
   ]
  },
  {
   "cell_type": "code",
   "execution_count": 208,
   "metadata": {},
   "outputs": [],
   "source": [
    "submission2= test2[[\"id\",\"label\"]].copy()\n",
    "submission2[\"label\"] = submission2.label.astype(\"int\")\n",
    "filename = 'submission2.csv'\n",
    "submission2.to_csv(filename,index=False)"
   ]
  },
  {
   "cell_type": "code",
   "execution_count": 209,
   "metadata": {},
   "outputs": [],
   "source": [
    "submission3= test3[[\"id\",\"label\"]].copy()\n",
    "submission3[\"label\"] = submission3.label.astype(\"int\")\n",
    "filename = 'submission3.csv'\n",
    "submission3.to_csv(filename,index=False)"
   ]
  },
  {
   "cell_type": "code",
   "execution_count": 214,
   "metadata": {},
   "outputs": [],
   "source": [
    "submission4= test4[[\"id\",\"label\"]].copy()\n",
    "submission4[\"label\"] = submission4.label.astype(\"int\")\n",
    "filename4 = 'submission4.csv'\n",
    "submission4.to_csv(filename4,index=False)"
   ]
  },
  {
   "cell_type": "code",
   "execution_count": null,
   "metadata": {},
   "outputs": [],
   "source": []
  }
 ],
 "metadata": {
  "kernelspec": {
   "display_name": "Python 3",
   "language": "python",
   "name": "python3"
  },
  "language_info": {
   "codemirror_mode": {
    "name": "ipython",
    "version": 3
   },
   "file_extension": ".py",
   "mimetype": "text/x-python",
   "name": "python",
   "nbconvert_exporter": "python",
   "pygments_lexer": "ipython3",
   "version": "3.8.3"
  }
 },
 "nbformat": 4,
 "nbformat_minor": 4
}
